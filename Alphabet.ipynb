{
 "cells": [
  {
   "cell_type": "code",
   "execution_count": 1,
   "metadata": {},
   "outputs": [],
   "source": [
    "#Import the modules required\n",
    "import pandas as pd\n",
    "import numpy as np\n",
    "import matplotlib.pyplot as plt\n",
    "import pdb\n",
    "from sklearn.metrics import confusion_matrix\n",
    "from sklearn.metrics import classification_report\n",
    "import seaborn as sns\n",
    "import itertools\n",
    "import pdb"
   ]
  },
  {
   "cell_type": "code",
   "execution_count": 2,
   "metadata": {},
   "outputs": [],
   "source": [
    "#Name the headers of the data and read the file\n",
    "colName = ['lettr','x-box','ybox','width','high','onpix','x-bar','y-bar','x2bar','y2bar','xybar','x2ybr','xy2br','x-ege','xegvy','y-ege','yegvx'];\n",
    "data = pd.read_csv('LRD.data',header = None, names = colName);"
   ]
  },
  {
   "cell_type": "code",
   "execution_count": 3,
   "metadata": {},
   "outputs": [
    {
     "data": {
      "text/html": [
       "<div>\n",
       "<style scoped>\n",
       "    .dataframe tbody tr th:only-of-type {\n",
       "        vertical-align: middle;\n",
       "    }\n",
       "\n",
       "    .dataframe tbody tr th {\n",
       "        vertical-align: top;\n",
       "    }\n",
       "\n",
       "    .dataframe thead th {\n",
       "        text-align: right;\n",
       "    }\n",
       "</style>\n",
       "<table border=\"1\" class=\"dataframe\">\n",
       "  <thead>\n",
       "    <tr style=\"text-align: right;\">\n",
       "      <th></th>\n",
       "      <th>lettr</th>\n",
       "      <th>x-box</th>\n",
       "      <th>ybox</th>\n",
       "      <th>width</th>\n",
       "      <th>high</th>\n",
       "      <th>onpix</th>\n",
       "      <th>x-bar</th>\n",
       "      <th>y-bar</th>\n",
       "      <th>x2bar</th>\n",
       "      <th>y2bar</th>\n",
       "      <th>xybar</th>\n",
       "      <th>x2ybr</th>\n",
       "      <th>xy2br</th>\n",
       "      <th>x-ege</th>\n",
       "      <th>xegvy</th>\n",
       "      <th>y-ege</th>\n",
       "      <th>yegvx</th>\n",
       "    </tr>\n",
       "  </thead>\n",
       "  <tbody>\n",
       "    <tr>\n",
       "      <th>0</th>\n",
       "      <td>T</td>\n",
       "      <td>2</td>\n",
       "      <td>8</td>\n",
       "      <td>3</td>\n",
       "      <td>5</td>\n",
       "      <td>1</td>\n",
       "      <td>8</td>\n",
       "      <td>13</td>\n",
       "      <td>0</td>\n",
       "      <td>6</td>\n",
       "      <td>6</td>\n",
       "      <td>10</td>\n",
       "      <td>8</td>\n",
       "      <td>0</td>\n",
       "      <td>8</td>\n",
       "      <td>0</td>\n",
       "      <td>8</td>\n",
       "    </tr>\n",
       "    <tr>\n",
       "      <th>1</th>\n",
       "      <td>I</td>\n",
       "      <td>5</td>\n",
       "      <td>12</td>\n",
       "      <td>3</td>\n",
       "      <td>7</td>\n",
       "      <td>2</td>\n",
       "      <td>10</td>\n",
       "      <td>5</td>\n",
       "      <td>5</td>\n",
       "      <td>4</td>\n",
       "      <td>13</td>\n",
       "      <td>3</td>\n",
       "      <td>9</td>\n",
       "      <td>2</td>\n",
       "      <td>8</td>\n",
       "      <td>4</td>\n",
       "      <td>10</td>\n",
       "    </tr>\n",
       "    <tr>\n",
       "      <th>2</th>\n",
       "      <td>D</td>\n",
       "      <td>4</td>\n",
       "      <td>11</td>\n",
       "      <td>6</td>\n",
       "      <td>8</td>\n",
       "      <td>6</td>\n",
       "      <td>10</td>\n",
       "      <td>6</td>\n",
       "      <td>2</td>\n",
       "      <td>6</td>\n",
       "      <td>10</td>\n",
       "      <td>3</td>\n",
       "      <td>7</td>\n",
       "      <td>3</td>\n",
       "      <td>7</td>\n",
       "      <td>3</td>\n",
       "      <td>9</td>\n",
       "    </tr>\n",
       "    <tr>\n",
       "      <th>3</th>\n",
       "      <td>N</td>\n",
       "      <td>7</td>\n",
       "      <td>11</td>\n",
       "      <td>6</td>\n",
       "      <td>6</td>\n",
       "      <td>3</td>\n",
       "      <td>5</td>\n",
       "      <td>9</td>\n",
       "      <td>4</td>\n",
       "      <td>6</td>\n",
       "      <td>4</td>\n",
       "      <td>4</td>\n",
       "      <td>10</td>\n",
       "      <td>6</td>\n",
       "      <td>10</td>\n",
       "      <td>2</td>\n",
       "      <td>8</td>\n",
       "    </tr>\n",
       "    <tr>\n",
       "      <th>4</th>\n",
       "      <td>G</td>\n",
       "      <td>2</td>\n",
       "      <td>1</td>\n",
       "      <td>3</td>\n",
       "      <td>1</td>\n",
       "      <td>1</td>\n",
       "      <td>8</td>\n",
       "      <td>6</td>\n",
       "      <td>6</td>\n",
       "      <td>6</td>\n",
       "      <td>6</td>\n",
       "      <td>5</td>\n",
       "      <td>9</td>\n",
       "      <td>1</td>\n",
       "      <td>7</td>\n",
       "      <td>5</td>\n",
       "      <td>10</td>\n",
       "    </tr>\n",
       "  </tbody>\n",
       "</table>\n",
       "</div>"
      ],
      "text/plain": [
       "  lettr  x-box  ybox  width  high  onpix  x-bar  y-bar  x2bar  y2bar  xybar  \\\n",
       "0     T      2     8      3     5      1      8     13      0      6      6   \n",
       "1     I      5    12      3     7      2     10      5      5      4     13   \n",
       "2     D      4    11      6     8      6     10      6      2      6     10   \n",
       "3     N      7    11      6     6      3      5      9      4      6      4   \n",
       "4     G      2     1      3     1      1      8      6      6      6      6   \n",
       "\n",
       "   x2ybr  xy2br  x-ege  xegvy  y-ege  yegvx  \n",
       "0     10      8      0      8      0      8  \n",
       "1      3      9      2      8      4     10  \n",
       "2      3      7      3      7      3      9  \n",
       "3      4     10      6     10      2      8  \n",
       "4      5      9      1      7      5     10  "
      ]
     },
     "execution_count": 3,
     "metadata": {},
     "output_type": "execute_result"
    }
   ],
   "source": [
    "#Check how the dataset looks like\n",
    "data.head()"
   ]
  },
  {
   "cell_type": "code",
   "execution_count": 4,
   "metadata": {},
   "outputs": [
    {
     "data": {
      "text/plain": [
       "(20000, 17)"
      ]
     },
     "execution_count": 4,
     "metadata": {},
     "output_type": "execute_result"
    }
   ],
   "source": [
    "#Size of the data\n",
    "data.shape"
   ]
  },
  {
   "cell_type": "code",
   "execution_count": 5,
   "metadata": {},
   "outputs": [
    {
     "data": {
      "text/plain": [
       "lettr    0\n",
       "x-box    0\n",
       "ybox     0\n",
       "width    0\n",
       "high     0\n",
       "onpix    0\n",
       "x-bar    0\n",
       "y-bar    0\n",
       "x2bar    0\n",
       "y2bar    0\n",
       "xybar    0\n",
       "x2ybr    0\n",
       "xy2br    0\n",
       "x-ege    0\n",
       "xegvy    0\n",
       "y-ege    0\n",
       "yegvx    0\n",
       "dtype: int64"
      ]
     },
     "execution_count": 5,
     "metadata": {},
     "output_type": "execute_result"
    }
   ],
   "source": [
    "#Check for missing values\n",
    "pd.isnull(data).sum()"
   ]
  },
  {
   "cell_type": "markdown",
   "metadata": {},
   "source": [
    "There are no missing values in our data! Now, lets see the distribution of our classes"
   ]
  },
  {
   "cell_type": "code",
   "execution_count": 6,
   "metadata": {},
   "outputs": [
    {
     "data": {
      "image/png": "[encoded data removed]",
      "text/plain": [
       "<Figure size 576x288 with 1 Axes>"
      ]
     },
     "metadata": {
      "needs_background": "light"
     },
     "output_type": "display_data"
    }
   ],
   "source": [
    "#Check whether the classes are balanced or not\n",
    "plt.subplots(figsize=(8,4))\n",
    "sns.barplot(x = data['lettr'].value_counts().index, y = data['lettr'].value_counts().values);\n",
    "plt.xlabel('Classes');\n",
    "plt.ylabel('Frequency');"
   ]
  },
  {
   "cell_type": "markdown",
   "metadata": {},
   "source": [
    "The dataset is indeed balanced. The first step is dividing the data into training and test. For that purpose, the instances of each classes are divided into a split of 80-20 and shuffled after splitting in the function below:-"
   ]
  },
  {
   "cell_type": "code",
   "execution_count": 7,
   "metadata": {},
   "outputs": [],
   "source": [
    "#Function that divides the data into training and test randomly\n",
    "def Preprocessing(df):\n",
    "    labels_train = pd.DataFrame();\n",
    "    features_train = pd.DataFrame();\n",
    "    labels_test = pd.DataFrame();\n",
    "    features_test = pd.DataFrame();\n",
    "    #Seperate features and labels of each class\n",
    "    for i in range(26):\n",
    "        labels_class = df.lettr[df['lettr'] == chr(ord('A') + i)];\n",
    "        features_class = df[df['lettr'] == chr(ord('A') + i)].drop(['lettr'], axis = 1);\n",
    "        index = np.random.permutation(len(labels_class)); #Random Indexes to divide the dataset into train and test\n",
    "        labels_train = pd.concat([labels_train, labels_class.iloc[index[0:650:1]]]);\n",
    "        features_train = pd.concat([features_train, features_class.iloc[index[0:650:1]]]);\n",
    "        labels_test = pd.concat([labels_test, labels_class.iloc[index[650:len(labels_class)]]]);\n",
    "        features_test = pd.concat([features_test, features_class.iloc[index[650:len(labels_class)]]]);\n",
    "    #Shuffle the training data\n",
    "    shuff = np.random.permutation(len(labels_train));\n",
    "    labels_train = labels_train.iloc[shuff];\n",
    "    features_train = features_train.iloc[shuff];\n",
    "    #Shuffle the test data\n",
    "    shuff = np.random.permutation(len(labels_test));\n",
    "    labels_test = labels_test.iloc[shuff];\n",
    "    features_test = features_test.iloc[shuff];\n",
    "\n",
    "    return labels_train, features_train, labels_test, features_test;"
   ]
  },
  {
   "cell_type": "code",
   "execution_count": 8,
   "metadata": {},
   "outputs": [],
   "source": [
    "labels_train, features_train, labels_test, features_test = Preprocessing(data);\n",
    "labels_train.columns = ['lettr'];\n",
    "labels_test.columns = ['lettr'];"
   ]
  },
  {
   "cell_type": "code",
   "execution_count": 9,
   "metadata": {},
   "outputs": [],
   "source": [
    "#Naive Bayes Models\n",
    "\n",
    "#Find the prior probability of each class\n",
    "prior = np.zeros((26,1));\n",
    "\n",
    "for i in range(26):\n",
    "    prior[i] = (labels_train == chr(ord('A') + i)).sum()/len(labels_train);\n",
    "\n",
    "#Seperate the features of each class and find the probability matrix(each feature)\n",
    "likelihood = np.zeros((26,16));\n",
    "\n",
    "for i in range(26):\n",
    "    tidx = labels_train == chr(ord('A') + i);\n",
    "    temp = features_train[tidx.values];\n",
    "    likelihood[i,:] = (1 + np.sum(temp,axis = 0))/np.sum(temp).sum();\n",
    "    \n",
    "#Classify using Multinomial Naivee Bayes\n",
    "prob = np.zeros((26,1));\n",
    "pred = np.ndarray(shape=(len(labels_test),1), dtype=object);\n",
    "\n",
    "for i in range(len(labels_test)):\n",
    "    for j in range(26):\n",
    "        prob[j] = np.log(prior[j]) + np.sum(np.log(likelihood[j,:])*features_test.iloc[i])\n",
    "    maxIndex = np.argmax(prob);\n",
    "    pred[i] = chr(ord('A') + maxIndex);"
   ]
  },
  {
   "cell_type": "code",
   "execution_count": 10,
   "metadata": {},
   "outputs": [
    {
     "name": "stdout",
     "output_type": "stream",
     "text": [
      "The accuracy for Multinomial Naive Bayes: 55.903\n"
     ]
    }
   ],
   "source": [
    "acc = np.array(np.sum(labels_test == pred)/len(labels_test))\n",
    "print('The accuracy for Multinomial Naive Bayes:',np.around(acc[0]*100,decimals=3))"
   ]
  },
  {
   "cell_type": "code",
   "execution_count": 11,
   "metadata": {},
   "outputs": [
    {
     "data": {
      "text/plain": [
       "array([[119,   2,   0,   0,   0,   0,   0,   1,   0,   4,   3,   0,   0,\n",
       "          0,   0,   0,   5,   1,   0,   0,   0,   0,   2,   1,   1,   0],\n",
       "       [  0,  68,   1,   2,   0,   0,  13,   0,   2,   1,   0,   0,   0,\n",
       "          0,   0,   0,   1,   4,  12,   0,   0,   0,   0,  11,   0,   1],\n",
       "       [  0,   0,  62,   1,   0,   2,   2,   1,   0,   0,  11,   2,   0,\n",
       "          0,   3,   0,   1,   0,   0,   1,   0,   0,   0,   0,   0,   0],\n",
       "       [  8,  12,   6,  97,   0,   0,   0,   1,   0,  10,   3,   0,   4,\n",
       "          0,   2,   1,   0,   1,   0,   0,   0,   0,   0,  10,   0,   0],\n",
       "       [  0,   5,  27,   0,  31,   2,   2,   0,   3,   0,   1,   0,   0,\n",
       "          0,   0,   0,   4,   5,   7,   0,   0,   0,   0,  28,   0,   3],\n",
       "       [  0,   6,   0,   1,   0,  85,   0,   0,   3,   1,   0,   0,   0,\n",
       "          0,   0,   6,   1,   0,   2,   5,   0,   0,   3,  12,   0,   0],\n",
       "       [  2,   5,  25,   2,   1,   0,  48,   1,   0,   0,   9,   6,   2,\n",
       "          0,   1,   0,  13,   5,   3,   0,   0,   0,   0,   0,   0,   0],\n",
       "       [  1,   1,   3,   6,   0,   2,   4,   3,   0,   0,  18,   0,   0,\n",
       "         15,   6,   1,   3,   5,   0,   0,   3,   0,   0,  11,   2,   0],\n",
       "       [  2,   4,   0,   1,   1,   2,   0,   0,  85,   0,   0,   1,   0,\n",
       "          0,   0,   1,   0,   0,   1,   0,   0,   0,   0,   7,   0,   0],\n",
       "       [  1,   9,   0,   4,   0,   2,   0,   1,  11,  61,   0,   0,   0,\n",
       "          0,   0,   3,   1,   2,   1,   0,   0,   0,   0,   1,   0,   0],\n",
       "       [  4,   5,  11,   2,   2,   0,   4,   1,   0,   0,  21,   0,   0,\n",
       "          0,   7,   0,   1,  13,   0,   2,   1,   0,   0,  13,   2,   0],\n",
       "       [  3,   5,   3,   0,   0,   0,   0,   0,  16,   2,   1,  75,   0,\n",
       "          0,   0,   0,   2,   1,   1,   0,   0,   0,   0,   2,   0,   0],\n",
       "       [  4,   4,   0,   0,   0,   0,   0,   0,   0,   0,   2,   0,  93,\n",
       "         28,   0,   0,   0,   3,   0,   0,   0,   1,   7,   0,   0,   0],\n",
       "       [  2,   5,   0,   4,   0,   0,   0,   3,   0,   1,   2,   0,   2,\n",
       "         83,   3,   0,   0,   2,   0,   0,   4,  10,  12,   0,   0,   0],\n",
       "       [  1,   2,   7,  12,   0,   0,   1,   8,   0,   1,   6,   0,   3,\n",
       "          0,  56,   0,   0,   5,   0,   0,   0,   0,   1,   0,   0,   0],\n",
       "       [  1,   2,   0,   5,   0,  25,   0,   0,   3,   0,   1,   0,   1,\n",
       "          0,   2,  93,   7,   1,   0,   0,   0,   0,   9,   2,   1,   0],\n",
       "       [  5,   5,   2,   3,   0,   0,  19,   0,   0,   0,   1,   1,   0,\n",
       "          0,   6,   0,  80,   0,  10,   0,   0,   0,   1,   0,   0,   0],\n",
       "       [  3,  12,   2,   3,   0,   0,  11,   0,   0,   1,   7,   0,   1,\n",
       "          0,   4,   0,   1,  63,   0,   0,   0,   0,   0,   0,   0,   0],\n",
       "       [ 10,  19,   0,   0,   1,   4,   1,   0,   3,   0,   3,   2,   0,\n",
       "          0,   0,   1,   0,   0,  28,   0,   0,   0,   0,   5,   0,  21],\n",
       "       [  0,   2,   0,   0,   2,  26,   6,   0,   2,   0,   3,   0,   0,\n",
       "          0,   0,   2,   1,   0,   1,  93,   0,   1,   0,   6,   1,   0],\n",
       "       [  0,   0,   8,   1,   0,   0,   0,   2,   0,   0,  11,   0,  17,\n",
       "         12,   3,   0,   3,   0,   0,   0, 105,   1,   0,   0,   0,   0],\n",
       "       [  0,   5,   0,   0,   0,   1,   0,   0,   0,   0,   0,   0,   1,\n",
       "          6,   0,   2,   1,   3,   0,   0,   0,  84,   8,   0,   3,   0],\n",
       "       [  0,   1,   0,   0,   0,   0,   0,   2,   0,   0,   0,   0,   9,\n",
       "          1,   0,   0,   0,   2,   0,   0,   0,   8,  79,   0,   0,   0],\n",
       "       [  1,   5,   7,   0,   8,   2,  17,   0,   1,   1,   4,   1,   0,\n",
       "          0,   4,   0,   4,   0,   8,   9,   0,   0,   0,  51,   8,   6],\n",
       "       [  0,   3,   0,   1,   0,   8,   0,   2,   0,   0,   0,   0,   0,\n",
       "          0,   1,   5,   9,   0,   0,  50,   3,  40,   1,   0,  13,   0],\n",
       "       [  1,   9,   0,   0,   5,   0,   0,   0,   0,   0,   0,   0,   0,\n",
       "          0,   0,   0,   0,   0,   9,   0,   0,   0,   0,   3,   0,  57]],\n",
       "      dtype=int64)"
      ]
     },
     "execution_count": 11,
     "metadata": {},
     "output_type": "execute_result"
    }
   ],
   "source": [
    "cnf = confusion_matrix(labels_test, pred);cnf"
   ]
  },
  {
   "cell_type": "code",
   "execution_count": 12,
   "metadata": {},
   "outputs": [
    {
     "name": "stdout",
     "output_type": "stream",
     "text": [
      "             precision    recall  f1-score   support\n",
      "\n",
      "          T       0.71      0.86      0.78       139\n",
      "          I       0.35      0.59      0.44       116\n",
      "          D       0.38      0.72      0.50        86\n",
      "          N       0.67      0.63      0.65       155\n",
      "          G       0.61      0.26      0.37       118\n",
      "          S       0.53      0.68      0.59       125\n",
      "          B       0.38      0.39      0.38       123\n",
      "          A       0.12      0.04      0.05        84\n",
      "          J       0.66      0.81      0.73       105\n",
      "          S       0.73      0.63      0.68        97\n",
      "          M       0.20      0.24      0.21        89\n",
      "          X       0.85      0.68      0.75       111\n",
      "          O       0.70      0.65      0.68       142\n",
      "          G       0.57      0.62      0.60       133\n",
      "          M       0.57      0.54      0.56       103\n",
      "          R       0.81      0.61      0.69       153\n",
      "          F       0.58      0.60      0.59       133\n",
      "          O       0.54      0.58      0.56       108\n",
      "          C       0.34      0.29      0.31        98\n",
      "          T       0.58      0.64      0.61       146\n",
      "          J       0.91      0.64      0.75       163\n",
      "          J       0.58      0.74      0.65       114\n",
      "          H       0.64      0.77      0.70       102\n",
      "          S       0.31      0.37      0.34       137\n",
      "          O       0.42      0.10      0.16       136\n",
      "          J       0.65      0.68      0.66        84\n",
      "\n",
      "avg / total       0.57      0.56      0.55      3100\n",
      "\n"
     ]
    },
    {
     "name": "stderr",
     "output_type": "stream",
     "text": [
      "C:\\Users\\Salman\\Anaconda3\\lib\\site-packages\\sklearn\\metrics\\classification.py:1428: UserWarning: labels size, 26, does not match size of target_names, 20000\n",
      "  .format(len(labels), len(target_names))\n"
     ]
    }
   ],
   "source": [
    "print(classification_report(labels_test, pred, target_names=data.lettr))"
   ]
  },
  {
   "cell_type": "code",
   "execution_count": 13,
   "metadata": {},
   "outputs": [],
   "source": [
    "#Implement Gaussian Naive Bayes\n",
    "Meu = np.zeros((26,16)) #Calculate the mean for each class and feature\n",
    "sigma = np.zeros((26,16)) #Calculate the std for each class and feature\n",
    "\n",
    "for i in range(26):\n",
    "    tidx = labels_train == chr(ord('A') + i);\n",
    "    temp = features_train[tidx.values];\n",
    "    Meu[i,:] = temp.mean()\n",
    "    sigma[i,:] = temp.std()\n",
    "\n",
    "check = np.zeros((26,1))\n",
    "#Now classify the test data\n",
    "for i in range(len(labels_test)):\n",
    "    for j in range(26):\n",
    "        check[j] = prior[j] * np.product(np.exp(-0.5*(np.square(features_test.iloc[i] - Meu[j,:])/np.square(sigma[j,:])))/(np.sqrt(2*np.pi*sigma[j,:])))\n",
    "    maxIndex = np.argmax(check);\n",
    "    pred[i] = chr(ord('A') + maxIndex);\n"
   ]
  },
  {
   "cell_type": "code",
   "execution_count": 14,
   "metadata": {},
   "outputs": [
    {
     "name": "stdout",
     "output_type": "stream",
     "text": [
      "The accuracy for Multinomial Naive Bayes: 65.323\n"
     ]
    }
   ],
   "source": [
    "acc = np.array(np.sum(labels_test == pred)/len(labels_test))\n",
    "print('The accuracy for Multinomial Naive Bayes:',np.around(acc[0]*100,decimals=3))"
   ]
  },
  {
   "cell_type": "code",
   "execution_count": 15,
   "metadata": {},
   "outputs": [
    {
     "data": {
      "text/plain": [
       "array([[120,   0,   0,   0,   0,   0,   0,   0,   0,   0,   0,   1,   4,\n",
       "          5,   0,   0,   2,   1,   3,   0,   0,   0,   0,   1,   2,   0],\n",
       "       [  0,  74,   0,   4,   0,   1,   3,   4,  11,   0,   2,   0,   1,\n",
       "          1,   0,   0,   3,   2,   9,   0,   0,   0,   1,   0,   0,   0],\n",
       "       [  0,   0,  65,   0,   2,   0,   1,   0,   0,   0,  11,   0,   0,\n",
       "          0,   2,   0,   1,   0,   2,   2,   0,   0,   0,   0,   0,   0],\n",
       "       [  0,  11,   0, 101,   0,   2,   0,   0,   3,  14,   8,   4,   4,\n",
       "          0,   0,   0,   0,   2,   6,   0,   0,   0,   0,   0,   0,   0],\n",
       "       [  0,   0,   1,   0,  48,   0,  10,   2,   9,   0,  13,   0,   0,\n",
       "          0,   0,   0,   7,   0,   8,   2,   0,   0,   0,  12,   3,   3],\n",
       "       [  0,   4,   0,   4,   0,  89,   0,   1,   0,   0,   0,   0,   1,\n",
       "          3,   0,   8,   4,   0,   6,   4,   0,   0,   1,   0,   0,   0],\n",
       "       [  2,   4,  13,   0,   0,   1,  63,   2,   1,   0,   8,   0,   2,\n",
       "          0,   0,   0,  16,   3,   4,   0,   0,   0,   4,   0,   0,   0],\n",
       "       [  1,   2,   0,   8,   0,   1,   2,  28,   1,   0,   9,   0,   2,\n",
       "          1,  10,   0,   0,   6,   0,   2,   2,   0,   1,   6,   2,   0],\n",
       "       [  0,   0,   0,   6,   1,   0,   0,   0,  85,   1,   0,   1,   0,\n",
       "          0,   0,   0,   0,   0,   9,   1,   0,   0,   0,   0,   1,   0],\n",
       "       [  0,   1,   0,   3,   0,   1,   0,   1,   1,  75,   0,   0,   0,\n",
       "          0,   0,   2,   0,   2,  10,   0,   0,   0,   0,   1,   0,   0],\n",
       "       [  0,   2,   1,   1,   6,   0,   0,   1,   1,   0,  54,   0,   4,\n",
       "          2,   0,   0,   0,  11,   1,   2,   1,   0,   0,   1,   1,   0],\n",
       "       [  0,   1,   0,   0,   0,   0,   1,   0,   0,   3,   1,  96,   0,\n",
       "          0,   0,   0,   3,   1,   4,   0,   0,   0,   0,   0,   1,   0],\n",
       "       [  1,   1,   0,   0,   0,   0,   0,   2,   0,   0,   2,   0, 129,\n",
       "          1,   0,   0,   1,   0,   0,   0,   1,   0,   4,   0,   0,   0],\n",
       "       [  0,   1,   0,   5,   0,   1,   0,  15,   0,   1,   3,   0,   6,\n",
       "         87,   1,   0,   1,   2,   1,   0,   3,   3,   3,   0,   0,   0],\n",
       "       [  1,   1,   0,   5,   0,   0,   1,  14,   5,   0,   4,   0,   3,\n",
       "          2,  51,   2,   4,   5,   1,   0,   2,   0,   2,   0,   0,   0],\n",
       "       [  0,   2,   0,   0,   0,  20,   2,   3,   0,   0,   2,   0,   1,\n",
       "          2,   1, 107,   1,   0,   0,   0,   0,   0,   8,   0,   4,   0],\n",
       "       [  2,   1,   0,   3,   0,   0,   1,   3,   6,   0,   1,   3,   2,\n",
       "          0,  11,   0,  85,   1,  12,   0,   0,   0,   1,   0,   1,   0],\n",
       "       [  0,   5,   0,   2,   0,   0,   0,   3,   1,   4,   8,   2,   4,\n",
       "          0,   0,   0,   2,  76,   0,   0,   0,   0,   1,   0,   0,   0],\n",
       "       [  6,  12,   0,   1,   0,   2,   0,   1,   9,   0,   1,   4,   0,\n",
       "          0,   0,   1,   6,   3,  42,   3,   0,   1,   0,   3,   0,   3],\n",
       "       [  0,   0,   1,   0,   2,   6,   5,   0,   0,   0,   4,   0,   0,\n",
       "          0,   0,   0,   2,   0,   3, 112,   0,   0,   0,   1,  10,   0],\n",
       "       [  0,   0,   1,   0,   0,   0,   0,   5,   0,   0,  12,   0,  18,\n",
       "          6,   1,   0,   1,   0,   0,   2, 116,   0,   1,   0,   0,   0],\n",
       "       [  0,   1,   0,   0,   0,   2,   2,   5,   0,   0,   0,   0,   3,\n",
       "          0,   0,   2,   0,   0,   0,   0,   0,  75,   9,   0,  15,   0],\n",
       "       [  0,   1,   0,   0,   0,   0,   0,   4,   0,   0,   0,   0,   9,\n",
       "          2,   0,   0,   0,   0,   0,   0,   0,   6,  77,   0,   3,   0],\n",
       "       [  0,   3,   0,   1,   3,   0,   0,   1,  17,   1,   7,   8,   0,\n",
       "          0,   6,   1,   1,   1,  10,   8,   8,   0,   0,  55,   3,   3],\n",
       "       [  0,   0,   0,   1,   0,   8,   0,   0,   0,   0,   0,   0,   0,\n",
       "          1,   0,   2,   4,   0,   5,  15,   3,  27,   0,   0,  70,   0],\n",
       "       [  1,   0,   0,   0,   4,   0,   0,   0,   9,   0,   0,   1,   0,\n",
       "          0,   0,   0,   0,   2,  20,   1,   0,   0,   0,   1,   0,  45]],\n",
       "      dtype=int64)"
      ]
     },
     "execution_count": 15,
     "metadata": {},
     "output_type": "execute_result"
    }
   ],
   "source": [
    "cnf = confusion_matrix(labels_test, pred);cnf"
   ]
  },
  {
   "cell_type": "code",
   "execution_count": 16,
   "metadata": {},
   "outputs": [
    {
     "name": "stdout",
     "output_type": "stream",
     "text": [
      "             precision    recall  f1-score   support\n",
      "\n",
      "          T       0.90      0.86      0.88       139\n",
      "          I       0.58      0.64      0.61       116\n",
      "          D       0.79      0.76      0.77        86\n",
      "          N       0.70      0.65      0.67       155\n",
      "          G       0.73      0.41      0.52       118\n",
      "          S       0.66      0.71      0.69       125\n",
      "          B       0.69      0.51      0.59       123\n",
      "          A       0.29      0.33      0.31        84\n",
      "          J       0.53      0.81      0.64       105\n",
      "          S       0.76      0.77      0.77        97\n",
      "          M       0.36      0.61      0.45        89\n",
      "          X       0.80      0.86      0.83       111\n",
      "          O       0.67      0.91      0.77       142\n",
      "          G       0.77      0.65      0.71       133\n",
      "          M       0.61      0.50      0.55       103\n",
      "          R       0.86      0.70      0.77       153\n",
      "          F       0.59      0.64      0.61       133\n",
      "          O       0.64      0.70      0.67       108\n",
      "          C       0.27      0.43      0.33        98\n",
      "          T       0.73      0.77      0.75       146\n",
      "          J       0.85      0.71      0.78       163\n",
      "          J       0.67      0.66      0.66       114\n",
      "          H       0.68      0.75      0.72       102\n",
      "          S       0.68      0.40      0.50       137\n",
      "          O       0.60      0.51      0.56       136\n",
      "          J       0.83      0.54      0.65        84\n",
      "\n",
      "avg / total       0.68      0.65      0.66      3100\n",
      "\n"
     ]
    },
    {
     "name": "stderr",
     "output_type": "stream",
     "text": [
      "C:\\Users\\Salman\\Anaconda3\\lib\\site-packages\\sklearn\\metrics\\classification.py:1428: UserWarning: labels size, 26, does not match size of target_names, 20000\n",
      "  .format(len(labels), len(target_names))\n"
     ]
    }
   ],
   "source": [
    "print(classification_report(labels_test, pred, target_names=data.lettr))"
   ]
  },
  {
   "cell_type": "code",
   "execution_count": 17,
   "metadata": {},
   "outputs": [],
   "source": [
    "#Implement Multinomial multivariate Naive Bayes with smoothing\n",
    "lh_mul = np.zeros((26,16,16)) #Likelihood of each feature of each class\n",
    "\n",
    "for i in range(26):\n",
    "    tidx = labels_train == chr(ord('A') + i);\n",
    "    temp = features_train[tidx.values];\n",
    "    shp = temp.shape\n",
    "    for j in range(16):\n",
    "        for k in range(16):\n",
    "            indx = temp.iloc[:,j] == k\n",
    "            lh_mul[i,j,k] = (1 + indx.sum())/(shp[0]+shp[1])\n",
    "\n",
    "check = np.zeros((26,1))\n",
    "\n",
    "for i in range(len(labels_test)):\n",
    "    for j in range(26):\n",
    "        temp = 0\n",
    "        for k in range(16):\n",
    "            temp = np.log(lh_mul[j,k,features_test.iloc[i,k]])*features_test.iloc[i,k]\n",
    "            if np.isnan(temp):\n",
    "                temp = 0\n",
    "            check[j] = check[j] + temp\n",
    "        check[j] = np.log(prior[j]) + check[j]\n",
    "    maxIndex = np.argmax(check);\n",
    "    pred[i] = chr(ord('A') + maxIndex);\n",
    "    check[:] = 0 "
   ]
  },
  {
   "cell_type": "code",
   "execution_count": 18,
   "metadata": {},
   "outputs": [
    {
     "name": "stdout",
     "output_type": "stream",
     "text": [
      "The accuracy for Multinomial Naive Bayes: 70.968\n"
     ]
    }
   ],
   "source": [
    "acc = np.array(np.sum(labels_test == pred)/len(labels_test))\n",
    "print('The accuracy for Multinomial Naive Bayes:',np.around(acc[0]*100,decimals=3))"
   ]
  },
  {
   "cell_type": "code",
   "execution_count": 19,
   "metadata": {},
   "outputs": [
    {
     "data": {
      "text/plain": [
       "array([[103,   2,   0,   1,   1,   0,   0,   3,   0,   3,   7,   0,   3,\n",
       "          2,   1,   0,   2,   5,   1,   0,   0,   0,   2,   2,   1,   0],\n",
       "       [  0,  97,   0,   2,   0,   0,   3,   1,   0,   0,   0,   0,   0,\n",
       "          2,   2,   0,   0,   3,   3,   0,   0,   0,   3,   0,   0,   0],\n",
       "       [  0,   0,  65,   0,   6,   1,   7,   0,   0,   0,   4,   0,   0,\n",
       "          0,   1,   0,   0,   0,   1,   1,   0,   0,   0,   0,   0,   0],\n",
       "       [  0,  22,   0, 100,   3,   0,   5,   4,   0,   3,   3,   0,   0,\n",
       "          1,   5,   1,   1,   5,   2,   0,   0,   0,   0,   0,   0,   0],\n",
       "       [  0,   2,   3,   0,  78,   0,   9,   1,   1,   0,   8,   0,   0,\n",
       "          1,   0,   0,   3,   0,   4,   1,   1,   0,   0,   2,   1,   3],\n",
       "       [  0,   5,   0,   3,   0,  84,   1,   0,   0,   0,   0,   0,   1,\n",
       "          5,   0,  15,   0,   1,   2,   4,   0,   0,   2,   0,   0,   2],\n",
       "       [  1,   1,   9,   2,   3,   2,  77,   0,   0,   0,   2,   0,   0,\n",
       "          1,   2,   0,   9,   4,   3,   0,   0,   0,   4,   2,   0,   1],\n",
       "       [  0,   9,   0,   5,   0,   1,   1,  49,   0,   0,   2,   0,   0,\n",
       "          2,   3,   0,   0,   4,   0,   0,   5,   0,   1,   0,   2,   0],\n",
       "       [  0,   0,   0,   5,   1,   1,   0,   1,  83,   2,   1,   0,   0,\n",
       "          0,   0,   2,   1,   0,   5,   0,   1,   0,   0,   2,   0,   0],\n",
       "       [  0,   4,   0,   4,   0,   2,   0,   3,   0,  72,   0,   0,   0,\n",
       "          1,   0,   1,   3,   3,   3,   0,   0,   0,   0,   0,   0,   1],\n",
       "       [  0,   3,   2,   3,   0,   0,   1,   2,   0,   0,  58,   0,   3,\n",
       "          0,   1,   1,   1,  10,   3,   0,   0,   0,   0,   1,   0,   0],\n",
       "       [  2,   2,   0,  18,   1,   0,   1,   3,   0,   2,   2,  67,   0,\n",
       "          0,   0,   0,   4,   1,   6,   0,   0,   0,   1,   1,   0,   0],\n",
       "       [  1,   0,   0,   0,   0,   0,   1,   5,   0,   0,   1,   0, 117,\n",
       "          2,   4,   0,   0,   1,   0,   0,   3,   0,   7,   0,   0,   0],\n",
       "       [  0,   5,   0,   8,   0,   1,   0,   2,   1,   0,   2,   0,   2,\n",
       "         96,   4,   1,   0,   2,   0,   1,   3,   1,   4,   0,   0,   0],\n",
       "       [  0,   2,   0,   2,   0,   0,   4,   1,   0,   0,   1,   0,   2,\n",
       "          2,  74,   1,   6,   6,   0,   0,   1,   0,   1,   0,   0,   0],\n",
       "       [  0,   2,   0,   1,   2,  13,   0,   0,   0,   0,   0,   0,   0,\n",
       "          1,   1, 118,   3,   0,   1,   0,   0,   0,   6,   0,   5,   0],\n",
       "       [  2,   3,   2,   1,   0,   0,   1,   0,   0,   1,   2,   0,   1,\n",
       "          1,  19,   0,  88,   1,   8,   0,   2,   1,   0,   0,   0,   0],\n",
       "       [  0,   7,   0,   2,   1,   0,   0,   6,   0,   0,   2,   0,   1,\n",
       "          3,   0,   0,   2,  82,   2,   0,   0,   0,   0,   0,   0,   0],\n",
       "       [  2,   5,   1,   0,   3,   1,   0,   1,   1,   0,   2,   0,   1,\n",
       "          0,   0,   1,   2,   5,  66,   0,   1,   0,   0,   2,   1,   3],\n",
       "       [  0,   2,   0,   0,   4,  11,   4,   1,   0,   0,   1,   0,   0,\n",
       "          0,   2,   1,   0,   0,   4, 109,   2,   0,   0,   0,   5,   0],\n",
       "       [  0,   2,   5,   0,   1,   0,   3,   2,   0,   0,   4,   0,  14,\n",
       "          7,   2,   0,   2,   0,   0,   0, 116,   0,   1,   4,   0,   0],\n",
       "       [  0,   0,   0,   0,   0,   1,   3,   0,   0,   0,   0,   0,   1,\n",
       "          4,   0,   5,   0,   0,   2,   0,   2,  80,   8,   0,   8,   0],\n",
       "       [  0,   1,   0,   0,   0,   0,   1,   4,   0,   0,   0,   0,   4,\n",
       "          0,   0,   0,   0,   0,   0,   0,   2,   4,  85,   0,   1,   0],\n",
       "       [  0,   7,   0,   6,   3,   2,   0,   2,   7,   0,   4,   0,   1,\n",
       "          0,   6,   0,   2,   0,   3,   0,   9,   0,   0,  75,   3,   7],\n",
       "       [  0,   1,   0,   0,   0,   2,   0,   0,   0,   0,   0,   0,   0,\n",
       "          2,   0,   4,   1,   0,   4,   5,   4,   7,   3,   0, 103,   0],\n",
       "       [  0,   4,   1,   0,   9,   0,   0,   1,   0,   0,   0,   0,   0,\n",
       "          0,   0,   0,   1,   2,   7,   1,   0,   0,   0,   0,   0,  58]],\n",
       "      dtype=int64)"
      ]
     },
     "execution_count": 19,
     "metadata": {},
     "output_type": "execute_result"
    }
   ],
   "source": [
    "cnf = confusion_matrix(labels_test, pred);cnf"
   ]
  },
  {
   "cell_type": "code",
   "execution_count": 20,
   "metadata": {},
   "outputs": [
    {
     "name": "stdout",
     "output_type": "stream",
     "text": [
      "             precision    recall  f1-score   support\n",
      "\n",
      "          T       0.93      0.74      0.82       139\n",
      "          I       0.52      0.84      0.64       116\n",
      "          D       0.74      0.76      0.75        86\n",
      "          N       0.61      0.65      0.63       155\n",
      "          G       0.67      0.66      0.67       118\n",
      "          S       0.69      0.67      0.68       125\n",
      "          B       0.63      0.63      0.63       123\n",
      "          A       0.53      0.58      0.56        84\n",
      "          J       0.89      0.79      0.84       105\n",
      "          S       0.87      0.74      0.80        97\n",
      "          M       0.55      0.65      0.59        89\n",
      "          X       1.00      0.60      0.75       111\n",
      "          O       0.77      0.82      0.80       142\n",
      "          G       0.72      0.72      0.72       133\n",
      "          M       0.58      0.72      0.64       103\n",
      "          R       0.78      0.77      0.78       153\n",
      "          F       0.67      0.66      0.67       133\n",
      "          O       0.61      0.76      0.67       108\n",
      "          C       0.51      0.67      0.58        98\n",
      "          T       0.89      0.75      0.81       146\n",
      "          J       0.76      0.71      0.74       163\n",
      "          J       0.86      0.70      0.77       114\n",
      "          H       0.66      0.83      0.74       102\n",
      "          S       0.82      0.55      0.66       137\n",
      "          O       0.79      0.76      0.77       136\n",
      "          J       0.77      0.69      0.73        84\n",
      "\n",
      "avg / total       0.73      0.71      0.71      3100\n",
      "\n"
     ]
    },
    {
     "name": "stderr",
     "output_type": "stream",
     "text": [
      "C:\\Users\\Salman\\Anaconda3\\lib\\site-packages\\sklearn\\metrics\\classification.py:1428: UserWarning: labels size, 26, does not match size of target_names, 20000\n",
      "  .format(len(labels), len(target_names))\n"
     ]
    }
   ],
   "source": [
    "print(classification_report(labels_test, pred, target_names=data.lettr))"
   ]
  },
  {
   "cell_type": "markdown",
   "metadata": {},
   "source": [
    "Among the 3 different versions of Naive Bayes, Multinomial Multivariate Naive Bayes performs the best with an accuracy of 69-72% with relatively good precision and recall on average. Lets compare these methods to logistic regression and neural networks"
   ]
  },
  {
   "cell_type": "code",
   "execution_count": 21,
   "metadata": {},
   "outputs": [],
   "source": [
    "#Normalize the features matrices for Neural Networks and logistic regression\n",
    "features_train = features_train/15\n",
    "features_test = features_test/15"
   ]
  },
  {
   "cell_type": "code",
   "execution_count": 22,
   "metadata": {},
   "outputs": [],
   "source": [
    "def softmax(ar):\n",
    "    exps = np.exp(ar)\n",
    "    denom = sum(exps)\n",
    "    softmax = exps/denom\n",
    "    return softmax"
   ]
  },
  {
   "cell_type": "code",
   "execution_count": 28,
   "metadata": {},
   "outputs": [],
   "source": [
    "#Implementation of Logistic regression using neural networks with SGD + momentum\n",
    "\n",
    "#Initalize weight and bias using Xaviers Initialization\n",
    "#Source:https://mnsgrg.com/2017/12/21/xavier-initialization/\n",
    "b = -np.sqrt(6/(16+26)) + 2*np.sqrt(6/(16+26))*np.random.uniform(size = (26,1))\n",
    "w = -np.sqrt(6/(16+26)) + 2*np.sqrt(6/(16+26))*np.random.uniform(size = (26,16))\n",
    "\n",
    "#Initialize Variables\n",
    "epoch = 50\n",
    "lr = 0.05\n",
    "alp = 0.35\n",
    "lbl = np.zeros((26,1))\n",
    "err = np.zeros((epoch,1))\n",
    "acc = np.zeros((epoch,1))\n",
    "db = np.zeros((26,1))   #Gradient for bias\n",
    "dw = np.zeros((26,16))  #Gradient for weight\n",
    "\n",
    "#Temp variables to save best parameters\n",
    "min_err = np.Inf\n",
    "max_acc = 0\n",
    "bpred = np.zeros((len(labels_test),1))\n",
    "\n",
    "for i in range(epoch):\n",
    "    shuff = np.random.permutation(len(labels_train))\n",
    "    #Pass over an epoch\n",
    "    for j in range(len(labels_train)):\n",
    "        cls = labels_train.iloc[shuff[j]]\n",
    "        lbl[ord(cls[0]) - 65] = 1    #One hot encoding\n",
    "\n",
    "        #Forward Pass\n",
    "        f = np.reshape(np.array(features_train.iloc[shuff[j]]),(16,1)) #Feature needs to be reshaped due to numpy default behaviour\n",
    "        tot = np.matmul(w,f) + b\n",
    "        o = softmax(tot)\n",
    "\n",
    "        #Backward Pass\n",
    "        db = alp*db + lr*(o-lbl)\n",
    "        dw = alp*dw + lr*np.matmul((o-lbl),np.transpose(f))\n",
    "        b = b - db\n",
    "        w = w - dw\n",
    "\n",
    "        lbl[:] = 0\n",
    "    \n",
    "    #Check performance on test set\n",
    "    for k in range(len(labels_test)):\n",
    "        cls = labels_test.iloc[k]\n",
    "        lbl[ord(cls[0]) - 65] = 1\n",
    "        f = np.reshape(np.array(features_test.iloc[k]),(16,1))\n",
    "        tot = np.matmul(w,f) + b\n",
    "        o = softmax(tot)\n",
    "\n",
    "        maxIdx = np.argmax(o)\n",
    "        pred[k] = chr(ord('A') + maxIdx)\n",
    "\n",
    "        if pred[k] == cls[0]:\n",
    "            acc[i] = acc[i] + 1\n",
    "\n",
    "        entropy = -lbl*np.log(o)\n",
    "        entropy = np.nan_to_num(entropy)\n",
    "        err[i] = err[i] + np.sum(entropy)\n",
    "        lbl[:] = 0\n",
    "    \n",
    "    #print('Epoch:', i, 'Accuracy:', acc[i]/len(labels_test)*100, 'Cross Entropy Error:', err[i]/len(labels_test))\n",
    "    #Minimum Error \n",
    "    if (err[i] < min_err):\n",
    "        min_err = err[i]\n",
    "        bpred = pred\n",
    "\n",
    "    #Set gradient and labels back to zero\n",
    "    lbl[:] = 0\n",
    "    db[:] = 0\n",
    "    dw[:] = 0\n"
   ]
  },
  {
   "cell_type": "code",
   "execution_count": 24,
   "metadata": {},
   "outputs": [
    {
     "name": "stdout",
     "output_type": "stream",
     "text": [
      "Best Accuracy achieved: 77.194\n"
     ]
    }
   ],
   "source": [
    "print('Best Accuracy achieved:',np.around(np.max(acc)/len(labels_test)*100,decimals=3)) "
   ]
  },
  {
   "cell_type": "code",
   "execution_count": 25,
   "metadata": {},
   "outputs": [
    {
     "data": {
      "text/plain": [
       "array([[124,   0,   0,   0,   0,   0,   0,   0,   0,   1,   1,   0,   1,\n",
       "          1,   4,   0,   0,   0,   1,   1,   2,   0,   0,   1,   2,   0],\n",
       "       [  0,  83,   0,   2,   0,   2,   1,   0,   3,   0,   0,   1,   0,\n",
       "          0,   5,   2,   1,   4,   8,   0,   0,   2,   0,   1,   0,   1],\n",
       "       [  0,   0,  66,   0,   2,   0,   4,   0,   0,   0,   8,   0,   0,\n",
       "          0,   5,   0,   0,   0,   0,   1,   0,   0,   0,   0,   0,   0],\n",
       "       [  0,   3,   0, 117,   0,   1,   0,   1,   0,   4,   0,   0,   0,\n",
       "          4,   5,   4,   0,   4,   0,   2,   2,   0,   0,   2,   0,   6],\n",
       "       [  0,   1,   0,   0,  95,   1,   2,   0,   0,   0,   1,   0,   0,\n",
       "          0,   0,   0,   3,   4,   3,   4,   0,   0,   0,   0,   0,   4],\n",
       "       [  1,   0,   1,   1,   3,  89,   2,   0,   0,   0,   0,   0,   0,\n",
       "          2,   0,  10,   0,   0,   4,   5,   1,   0,   1,   4,   1,   0],\n",
       "       [  2,   3,  10,   1,   1,   0,  62,   0,   0,   0,   2,   2,   0,\n",
       "          0,   6,   5,  16,   5,   4,   0,   1,   1,   0,   2,   0,   0],\n",
       "       [  2,   1,   0,   3,   0,   5,   0,  17,   0,   0,   1,   0,   0,\n",
       "          8,  28,   2,   0,   8,   0,   0,   7,   1,   0,   1,   0,   0],\n",
       "       [  0,   1,   0,   2,   1,   1,   0,   0,  91,   2,   0,   0,   0,\n",
       "          0,   1,   1,   0,   0,   1,   0,   0,   0,   0,   3,   1,   0],\n",
       "       [  2,   0,   0,   0,   0,   1,   0,   1,   6,  77,   0,   0,   0,\n",
       "          1,   0,   0,   1,   1,   5,   0,   0,   0,   0,   0,   0,   2],\n",
       "       [  1,   3,   0,   0,   1,   0,   2,   1,   0,   0,  60,   0,   0,\n",
       "          0,   1,   0,   0,  11,   0,   1,   5,   0,   0,   3,   0,   0],\n",
       "       [  0,   0,   0,   2,   2,   0,   2,   0,   0,   0,   0,  95,   0,\n",
       "          0,   1,   0,   4,   0,   3,   0,   1,   0,   0,   1,   0,   0],\n",
       "       [  1,   1,   0,   0,   0,   0,   0,   1,   0,   0,   0,   0, 119,\n",
       "          5,   3,   1,   0,   1,   0,   0,   4,   0,   6,   0,   0,   0],\n",
       "       [  0,   1,   0,   1,   0,   1,   0,   2,   0,   0,   2,   0,   1,\n",
       "        118,   3,   1,   0,   1,   0,   1,   1,   0,   0,   0,   0,   0],\n",
       "       [  4,   0,   1,   0,   0,   0,   0,   1,   0,   0,   0,   0,   1,\n",
       "          0,  84,   2,   2,   3,   0,   1,   2,   0,   2,   0,   0,   0],\n",
       "       [  0,   1,   0,   0,   1,  11,   3,   0,   0,   0,   0,   0,   0,\n",
       "          0,   3, 124,   1,   0,   0,   2,   0,   1,   1,   0,   5,   0],\n",
       "       [  3,   2,   1,   1,   4,   0,   0,   0,   1,   0,   0,   1,   0,\n",
       "          0,  16,   1,  94,   0,   5,   0,   0,   0,   0,   1,   0,   3],\n",
       "       [  2,   6,   0,   1,   2,   0,   0,   0,   0,   0,   7,   1,   0,\n",
       "          0,  11,   1,   0,  76,   0,   0,   0,   0,   0,   1,   0,   0],\n",
       "       [  1,  10,   0,   2,   4,   1,   0,   0,   0,   0,   0,   6,   0,\n",
       "          0,   3,   0,   4,   1,  51,   1,   0,   0,   0,   1,   0,  13],\n",
       "       [  0,   0,   0,   0,   1,   1,   4,   0,   0,   0,   0,   0,   0,\n",
       "          0,   3,   5,   1,   0,   3, 124,   2,   0,   0,   0,   0,   2],\n",
       "       [  2,   0,   0,   0,   0,   0,   0,   1,   0,   0,   1,   0,   5,\n",
       "          4,   4,   0,   0,   0,   0,   0, 145,   0,   1,   0,   0,   0],\n",
       "       [  1,   0,   0,   0,   1,   2,   1,   0,   0,   0,   0,   0,   0,\n",
       "          1,   6,   0,   0,   0,   0,   1,   0,  95,   2,   0,   4,   0],\n",
       "       [  0,   0,   0,   0,   0,   0,   0,   3,   0,   0,   0,   0,   4,\n",
       "          3,   1,   0,   0,   1,   0,   0,   2,   2,  86,   0,   0,   0],\n",
       "       [  0,   1,   0,   3,   5,   0,   0,   0,   2,   0,   0,   0,   0,\n",
       "          0,   3,   1,   2,   1,   3,   2,   7,   0,   0, 101,   4,   2],\n",
       "       [  0,   0,   0,   1,   0,   4,   0,   0,   0,   0,   0,   0,   0,\n",
       "          0,   1,   2,   3,   0,   0,  11,   3,   8,   0,   0, 103,   0],\n",
       "       [  0,   0,   0,   0,   5,   0,   0,   0,   0,   2,   0,   0,   0,\n",
       "          0,   0,   0,   1,   0,   7,   1,   0,   0,   0,   0,   0,  68]],\n",
       "      dtype=int64)"
      ]
     },
     "execution_count": 25,
     "metadata": {},
     "output_type": "execute_result"
    }
   ],
   "source": [
    "cnf = confusion_matrix(labels_test, bpred);cnf"
   ]
  },
  {
   "cell_type": "code",
   "execution_count": 26,
   "metadata": {},
   "outputs": [
    {
     "name": "stdout",
     "output_type": "stream",
     "text": [
      "             precision    recall  f1-score   support\n",
      "\n",
      "          T       0.85      0.89      0.87       139\n",
      "          I       0.71      0.72      0.71       116\n",
      "          D       0.84      0.77      0.80        86\n",
      "          N       0.85      0.75      0.80       155\n",
      "          G       0.74      0.81      0.77       118\n",
      "          S       0.74      0.71      0.73       125\n",
      "          B       0.75      0.50      0.60       123\n",
      "          A       0.61      0.20      0.30        84\n",
      "          J       0.88      0.87      0.88       105\n",
      "          S       0.90      0.79      0.84        97\n",
      "          M       0.72      0.67      0.70        89\n",
      "          X       0.90      0.86      0.88       111\n",
      "          O       0.91      0.84      0.87       142\n",
      "          G       0.80      0.89      0.84       133\n",
      "          M       0.43      0.82      0.56       103\n",
      "          R       0.77      0.81      0.79       153\n",
      "          F       0.71      0.71      0.71       133\n",
      "          O       0.63      0.70      0.66       108\n",
      "          C       0.52      0.52      0.52        98\n",
      "          T       0.78      0.85      0.82       146\n",
      "          J       0.78      0.89      0.83       163\n",
      "          J       0.86      0.83      0.85       114\n",
      "          H       0.87      0.84      0.86       102\n",
      "          S       0.83      0.74      0.78       137\n",
      "          O       0.86      0.76      0.80       136\n",
      "          J       0.67      0.81      0.74        84\n",
      "\n",
      "avg / total       0.77      0.76      0.76      3100\n",
      "\n"
     ]
    },
    {
     "name": "stderr",
     "output_type": "stream",
     "text": [
      "C:\\Users\\Salman\\Anaconda3\\lib\\site-packages\\sklearn\\metrics\\classification.py:1428: UserWarning: labels size, 26, does not match size of target_names, 20000\n",
      "  .format(len(labels), len(target_names))\n"
     ]
    }
   ],
   "source": [
    "print(classification_report(labels_test, bpred, target_names=data.lettr))"
   ]
  },
  {
   "cell_type": "code",
   "execution_count": 27,
   "metadata": {},
   "outputs": [
    {
     "data": {
      "text/plain": [
       "Text(0,0.5,'Cross Entropy Error')"
      ]
     },
     "execution_count": 27,
     "metadata": {},
     "output_type": "execute_result"
    },
    {
     "data": {
      "image/png": "[encoded data removed]",
      "text/plain": [
       "<Figure size 720x576 with 2 Axes>"
      ]
     },
     "metadata": {
      "needs_background": "light"
     },
     "output_type": "display_data"
    }
   ],
   "source": [
    "plt.figure(figsize=(10,8))\n",
    "plt.subplot(121)\n",
    "plt.plot(np.arange(50),acc/len(labels_test)*100)\n",
    "plt.title('Model Performance')\n",
    "plt.xlabel('Epoch')\n",
    "plt.ylabel('Accuracy')\n",
    "plt.subplot(122)\n",
    "plt.plot(np.arange(50),err/len(labels_test))\n",
    "plt.title('Model Performance')\n",
    "plt.xlabel('Epoch')\n",
    "plt.ylabel('Cross Entropy Error')"
   ]
  },
  {
   "cell_type": "code",
   "execution_count": 28,
   "metadata": {},
   "outputs": [],
   "source": [
    "#Implementation of One layer neural networks with SGD + momentum\n",
    "\n",
    "#Initalize weight and bias using Xaviers Initialization\n",
    "#Source:https://mnsgrg.com/2017/12/21/xavier-initialization/\n",
    "hn = 30 #Number of hidden neurons\n",
    "b1 = -np.sqrt(6/(16+hn)) + 2*np.sqrt(6/(16+hn))*np.random.uniform(size = (hn,1))\n",
    "w1 = -np.sqrt(6/(16+hn)) + 2*np.sqrt(6/(16+hn))*np.random.uniform(size = (hn,16))\n",
    "b2 = -np.sqrt(6/(26+hn)) + 2*np.sqrt(6/(26+hn))*np.random.uniform(size = (26,1))\n",
    "w2 = -np.sqrt(6/(26+hn)) + 2*np.sqrt(6/(26+hn))*np.random.uniform(size = (26,hn))\n",
    "\n",
    "#Initialize Variables\n",
    "epoch = 100\n",
    "lr = 0.1\n",
    "alp = 0.2\n",
    "lbl = np.zeros((26,1))\n",
    "err = np.zeros((epoch,1))\n",
    "acc = np.zeros((epoch,1))\n",
    "db1 = np.zeros((hn,1))   #Gradient for bias\n",
    "dw1 = np.zeros((hn,16))  #Gradient for weight\n",
    "db2 = np.zeros((26,1))\n",
    "dw2 = np.zeros((26,hn))\n",
    "\n",
    "#Temp variables to save best parameters\n",
    "min_err = np.Inf\n",
    "max_acc = 0\n",
    "bpred = np.zeros((len(labels_test),1))\n",
    "\n",
    "for i in range(epoch):\n",
    "    shuff = np.random.permutation(len(labels_train))\n",
    "    #Pass over an epoch\n",
    "    for j in range(len(labels_train)):\n",
    "        cls = labels_train.iloc[shuff[j]]\n",
    "        lbl[ord(cls[0]) - 65] = 1    #One hot encoding\n",
    "\n",
    "        #Forward Pass\n",
    "        f = np.reshape(np.array(features_train.iloc[shuff[j]]),(16,1)) #Feature needs to be reshaped due to numpy default behaviour\n",
    "        l1 = np.matmul(w1,f) + b1\n",
    "        o1 = 1/(1 + np.exp(-l1)) #Sigmoid\n",
    "        tot = np.matmul(w2,o1) + b2\n",
    "        o = softmax(tot)\n",
    "\n",
    "        #Backward Pass (Might be a little confusing, so try doing the steps on a small matrix)\n",
    "        db2 = alp*db2 + lr*(o-lbl)\n",
    "        dw2 = alp*dw2+ lr*np.matmul((o-lbl),np.transpose(o1))\n",
    "        db1 = alp*db1 + np.transpose(lr*np.matmul(np.transpose(o-lbl),w2))*o1*(1-o1)\n",
    "        dw1 = alp*dw1 + np.matmul((np.transpose(lr*np.matmul(np.transpose(o-lbl),w2))*o1*(1-o1)),np.transpose(f))\n",
    "\n",
    "        b1 = b1 - db1\n",
    "        w1 = w1 - dw1\n",
    "        b2 = b2 - db2\n",
    "        w2 = w2 - dw2\n",
    "\n",
    "        lbl[:] = 0\n",
    "    \n",
    "    #Check performance on test set\n",
    "    for k in range(len(labels_test)):\n",
    "        cls = labels_test.iloc[k]\n",
    "        lbl[ord(cls[0]) - 65] = 1\n",
    "        f = np.reshape(np.array(features_test.iloc[k]),(16,1))\n",
    "\n",
    "        l1 = np.matmul(w1,f) + b1\n",
    "        o1 = 1/(1 + np.exp(-l1)) #Sigmoid\n",
    "        tot = np.matmul(w2,o1) + b2\n",
    "        o = softmax(tot)\n",
    "\n",
    "        maxIdx = np.argmax(o)\n",
    "        pred[k] = chr(ord('A') + maxIdx)\n",
    "\n",
    "        if pred[k] == cls[0]:\n",
    "            acc[i] = acc[i] + 1\n",
    "\n",
    "        entropy = -lbl*np.log(o)\n",
    "        entropy = np.nan_to_num(entropy)\n",
    "        err[i] = err[i] + np.sum(entropy)\n",
    "        lbl[:] = 0\n",
    "\n",
    "    #print('Epoch:', i, 'Accuracy:', acc[i]/len(labels_test)*100, 'Cross Entropy Error:', err[i]/len(labels_test))\n",
    "    #Early Stopping condition\n",
    "    if (err[i] < min_err):\n",
    "        min_err = err[i]\n",
    "        bpred = pred\n",
    "\n",
    "    #Set gradient and labels back to zero\n",
    "    lbl[:] = 0\n",
    "    db1[:] = 0\n",
    "    dw1[:] = 0\n",
    "    db2[:] = 0\n",
    "    dw2[:] = 0\n"
   ]
  },
  {
   "cell_type": "code",
   "execution_count": 36,
   "metadata": {},
   "outputs": [
    {
     "name": "stdout",
     "output_type": "stream",
     "text": [
      "Best Accuracy achieved: 90.032\n"
     ]
    }
   ],
   "source": [
    "print('Best Accuracy achieved:',np.around(np.max(acc)/len(labels_test)*100,decimals=3)) "
   ]
  },
  {
   "cell_type": "code",
   "execution_count": 30,
   "metadata": {},
   "outputs": [
    {
     "data": {
      "text/plain": [
       "array([[124,   0,   0,   1,   0,   0,   0,   0,   1,   1,   0,   2,   0,\n",
       "          0,   0,   0,   1,   1,   2,   0,   1,   0,   1,   0,   3,   1],\n",
       "       [  0, 105,   0,   5,   1,   1,   0,   0,   0,   0,   1,   0,   0,\n",
       "          0,   0,   1,   0,   1,   0,   0,   0,   1,   0,   0,   0,   0],\n",
       "       [  0,   0,  72,   0,   2,   0,   2,   1,   0,   0,   2,   1,   0,\n",
       "          0,   2,   0,   0,   0,   0,   3,   1,   0,   0,   0,   0,   0],\n",
       "       [  0,   6,   0, 130,   0,   2,   0,   8,   0,   0,   0,   1,   0,\n",
       "          1,   0,   2,   1,   1,   1,   1,   0,   0,   0,   1,   0,   0],\n",
       "       [  0,   2,   0,   0, 110,   0,   4,   0,   0,   0,   0,   1,   0,\n",
       "          0,   0,   0,   0,   1,   0,   0,   0,   0,   0,   0,   0,   0],\n",
       "       [  0,   0,   0,   2,   2, 111,   0,   0,   2,   1,   0,   0,   0,\n",
       "          0,   0,   2,   0,   0,   0,   5,   0,   0,   0,   0,   0,   0],\n",
       "       [  0,   0,   2,   1,   2,   3, 106,   1,   0,   0,   0,   4,   0,\n",
       "          0,   1,   0,   1,   1,   0,   0,   1,   0,   0,   0,   0,   0],\n",
       "       [  0,   4,   0,   3,   0,   0,   1,  70,   0,   0,   0,   0,   0,\n",
       "          0,   0,   0,   0,   3,   0,   0,   0,   2,   0,   1,   0,   0],\n",
       "       [  0,   0,   0,   2,   0,   0,   0,   0,  99,   3,   0,   1,   0,\n",
       "          0,   0,   0,   0,   0,   0,   0,   0,   0,   0,   0,   0,   0],\n",
       "       [  0,   1,   0,   0,   0,   0,   0,   2,   6,  84,   0,   0,   0,\n",
       "          2,   1,   0,   0,   0,   0,   0,   0,   0,   0,   1,   0,   0],\n",
       "       [  0,   2,   0,   0,   4,   0,   2,   2,   0,   0,  69,   2,   0,\n",
       "          1,   0,   0,   0,   4,   0,   0,   0,   0,   0,   3,   0,   0],\n",
       "       [  0,   0,   0,   0,   0,   0,   0,   0,   0,   0,   0, 111,   0,\n",
       "          0,   0,   0,   0,   0,   0,   0,   0,   0,   0,   0,   0,   0],\n",
       "       [  1,   4,   0,   0,   0,   0,   0,   1,   0,   0,   0,   0, 131,\n",
       "          1,   1,   0,   0,   0,   0,   0,   1,   1,   1,   0,   0,   0],\n",
       "       [  0,   0,   0,   5,   0,   0,   0,   1,   0,   0,   1,   0,   0,\n",
       "        125,   0,   0,   0,   1,   0,   0,   0,   0,   0,   0,   0,   0],\n",
       "       [  0,   0,   0,   2,   0,   0,   2,   4,   0,   0,   0,   0,   0,\n",
       "          2,  88,   0,   3,   1,   0,   0,   0,   1,   0,   0,   0,   0],\n",
       "       [  0,   2,   0,   1,   0,   7,   2,   1,   0,   0,   0,   0,   0,\n",
       "          0,   0, 139,   0,   0,   0,   0,   0,   1,   0,   0,   0,   0],\n",
       "       [  0,   0,   0,   1,   0,   1,   2,   0,   1,   0,   1,   1,   0,\n",
       "          0,   4,   1, 121,   0,   0,   0,   0,   0,   0,   0,   0,   0],\n",
       "       [  0,   2,   0,   0,   0,   0,   0,   1,   0,   0,   1,   3,   0,\n",
       "          2,   0,   0,   0,  99,   0,   0,   0,   0,   0,   0,   0,   0],\n",
       "       [  0,   3,   0,   0,   5,   3,   2,   0,   3,   0,   0,   1,   0,\n",
       "          0,   0,   0,   4,   2,  70,   0,   0,   0,   0,   1,   0,   4],\n",
       "       [  0,   0,   0,   0,   3,   0,   2,   0,   0,   0,   0,   0,   0,\n",
       "          0,   0,   2,   0,   1,   1, 133,   0,   0,   0,   2,   2,   0],\n",
       "       [  0,   0,   0,   2,   0,   0,   0,   2,   0,   1,   0,   1,   0,\n",
       "          3,   4,   0,   0,   0,   0,   1, 147,   2,   0,   0,   0,   0],\n",
       "       [  0,   1,   0,   2,   0,   0,   1,   0,   0,   0,   0,   0,   0,\n",
       "          0,   0,   0,   0,   1,   0,   1,   0, 108,   0,   0,   0,   0],\n",
       "       [  0,   1,   0,   0,   0,   1,   0,   0,   0,   0,   0,   0,   0,\n",
       "          1,   0,   0,   0,   0,   0,   0,   2,   1,  96,   0,   0,   0],\n",
       "       [  0,   1,   0,   0,   4,   0,   0,   1,   1,   2,   2,   0,   0,\n",
       "          0,   0,   0,   0,   2,   1,   0,   0,   0,   0, 123,   0,   0],\n",
       "       [  0,   0,   0,   0,   0,   0,   0,   0,   0,   1,   0,   0,   0,\n",
       "          0,   0,   0,   1,   0,   0,   5,   1,   5,   0,   0, 123,   0],\n",
       "       [  0,   0,   0,   0,   5,   0,   0,   0,   0,   0,   0,   0,   0,\n",
       "          0,   0,   0,   1,   0,   4,   0,   0,   0,   0,   0,   0,  74]],\n",
       "      dtype=int64)"
      ]
     },
     "execution_count": 30,
     "metadata": {},
     "output_type": "execute_result"
    }
   ],
   "source": [
    "cnf = confusion_matrix(labels_test, bpred);cnf"
   ]
  },
  {
   "cell_type": "code",
   "execution_count": 31,
   "metadata": {},
   "outputs": [
    {
     "name": "stdout",
     "output_type": "stream",
     "text": [
      "             precision    recall  f1-score   support\n",
      "\n",
      "          T       0.99      0.89      0.94       139\n",
      "          I       0.78      0.91      0.84       116\n",
      "          D       0.97      0.84      0.90        86\n",
      "          N       0.83      0.84      0.83       155\n",
      "          G       0.80      0.93      0.86       118\n",
      "          S       0.86      0.89      0.87       125\n",
      "          B       0.84      0.86      0.85       123\n",
      "          A       0.74      0.83      0.78        84\n",
      "          J       0.88      0.94      0.91       105\n",
      "          S       0.90      0.87      0.88        97\n",
      "          M       0.90      0.78      0.83        89\n",
      "          X       0.86      1.00      0.92       111\n",
      "          O       1.00      0.92      0.96       142\n",
      "          G       0.91      0.94      0.92       133\n",
      "          M       0.87      0.85      0.86       103\n",
      "          R       0.95      0.91      0.93       153\n",
      "          F       0.91      0.91      0.91       133\n",
      "          O       0.83      0.92      0.87       108\n",
      "          C       0.89      0.71      0.79        98\n",
      "          T       0.89      0.91      0.90       146\n",
      "          J       0.95      0.90      0.93       163\n",
      "          J       0.89      0.95      0.92       114\n",
      "          H       0.98      0.94      0.96       102\n",
      "          S       0.93      0.90      0.91       137\n",
      "          O       0.96      0.90      0.93       136\n",
      "          J       0.94      0.88      0.91        84\n",
      "\n",
      "avg / total       0.90      0.89      0.89      3100\n",
      "\n"
     ]
    },
    {
     "name": "stderr",
     "output_type": "stream",
     "text": [
      "C:\\Users\\Salman\\Anaconda3\\lib\\site-packages\\sklearn\\metrics\\classification.py:1428: UserWarning: labels size, 26, does not match size of target_names, 20000\n",
      "  .format(len(labels), len(target_names))\n"
     ]
    }
   ],
   "source": [
    "print(classification_report(labels_test, bpred, target_names=data.lettr))"
   ]
  },
  {
   "cell_type": "code",
   "execution_count": 32,
   "metadata": {},
   "outputs": [
    {
     "data": {
      "text/plain": [
       "Text(0,0.5,'Cross Entropy Error')"
      ]
     },
     "execution_count": 32,
     "metadata": {},
     "output_type": "execute_result"
    },
    {
     "data": {
      "image/png": "[encoded data removed]",
      "text/plain": [
       "<Figure size 720x576 with 2 Axes>"
      ]
     },
     "metadata": {
      "needs_background": "light"
     },
     "output_type": "display_data"
    }
   ],
   "source": [
    "plt.figure(figsize=(10,8))\n",
    "plt.subplot(121)\n",
    "plt.plot(np.arange(100),acc/len(labels_test)*100)\n",
    "plt.title('Model Performance')\n",
    "plt.xlabel('Epoch')\n",
    "plt.ylabel('Accuracy')\n",
    "plt.subplot(122)\n",
    "plt.plot(np.arange(100),err/len(labels_test))\n",
    "plt.title('Model Performance')\n",
    "plt.xlabel('Epoch')\n",
    "plt.ylabel('Cross Entropy Error')"
   ]
  },
  {
   "cell_type": "code",
   "execution_count": 29,
   "metadata": {},
   "outputs": [],
   "source": [
    "#Implementation of 2-layer neural networks with SGD + momentum\n",
    "\n",
    "#Initalize weight and bias using Xaviers Initialization\n",
    "#Source:https://mnsgrg.com/2017/12/21/xavier-initialization/\n",
    "hn1 = 64 #Number of hidden neurons in layer 1\n",
    "hn2 = 32 #Number of hidden neurons in layer 2\n",
    "b1 = -np.sqrt(6/(16+hn1)) + 2*np.sqrt(6/(16+hn1))*np.random.uniform(size = (hn1,1))\n",
    "w1 = -np.sqrt(6/(16+hn1)) + 2*np.sqrt(6/(16+hn1))*np.random.uniform(size = (hn1,16))\n",
    "b2 = -np.sqrt(6/(hn1+hn2)) + 2*np.sqrt(6/(hn1+hn2))*np.random.uniform(size = (hn2,1))\n",
    "w2 = -np.sqrt(6/(hn1+hn2)) + 2*np.sqrt(6/(hn1+hn2))*np.random.uniform(size = (hn2,hn1))\n",
    "b3 = -np.sqrt(6/(26+hn2)) + 2*np.sqrt(6/(26+hn2))*np.random.uniform(size = (26,1))\n",
    "w3 = -np.sqrt(6/(26+hn2)) + 2*np.sqrt(6/(26+hn2))*np.random.uniform(size = (26,hn2))\n",
    "\n",
    "\n",
    "#Initialize Variables\n",
    "epoch = 100\n",
    "lr = 0.09\n",
    "alp = 0.008\n",
    "lbl = np.zeros((26,1))\n",
    "err = np.zeros((epoch,1))\n",
    "acc = np.zeros((epoch,1))\n",
    "db1 = np.zeros((hn1,1))   #Gradient for bias\n",
    "dw1 = np.zeros((hn1,16))  #Gradient for weight\n",
    "db2 = np.zeros((hn2,1))\n",
    "dw2 = np.zeros((hn2,hn1))\n",
    "db3 = np.zeros((26,1))\n",
    "dw3 = np.zeros((26,hn2))\n",
    "\n",
    "#Temp variables to save best parameters\n",
    "min_err = np.Inf\n",
    "max_acc = 0\n",
    "bpred = np.zeros((len(labels_test),1))\n",
    "\n",
    "for i in range(epoch):\n",
    "    shuff = np.random.permutation(len(labels_train))\n",
    "    #Pass over an epoch\n",
    "    for j in range(len(labels_train)):\n",
    "        cls = labels_train.iloc[shuff[j]]\n",
    "        lbl[ord(cls[0]) - 65] = 1    #One hot encoding\n",
    "\n",
    "        #Forward Pass\n",
    "        f = np.reshape(np.array(features_train.iloc[shuff[j]]),(16,1)) #Feature needs to be reshaped due to numpy default behaviour\n",
    "        l1 = np.matmul(w1,f) + b1\n",
    "        o1 = 1/(1 + np.exp(-l1)) #Sigmoid\n",
    "        l2 = np.matmul(w2,o1) + b2\n",
    "        o2 = 1/(1 + np.exp(-l2))\n",
    "        tot = np.matmul(w3,o2) + b3\n",
    "        o = softmax(tot)\n",
    "\n",
    "        #Backward Pass (Might be a little confusing, so try doing the steps on a small matrix)\n",
    "        #pdb.set_trace()\n",
    "        db3 = alp*db3 + lr*(o-lbl)\n",
    "        dw3 = alp*db3 + lr*np.matmul((o-lbl),np.transpose(o2))\n",
    "        db2 = alp*db2 + np.transpose(lr*np.matmul(np.transpose(o-lbl),w3))*o2*(1-o2)\n",
    "        dw2 = alp*dw2 + np.transpose(lr*np.matmul(np.transpose(o-lbl),w3))*o2*(1-o2)*np.transpose(o1)\n",
    "        db1 = alp*db1 + np.transpose(np.matmul(np.transpose(np.transpose(lr*np.matmul(np.transpose(o-lbl),w3))*o2*(1-o2)),w2))*o1*(1-o1)\n",
    "        dw1 = alp*dw1 + np.matmul(np.transpose(np.matmul(np.transpose(np.transpose(lr*np.matmul(np.transpose(o-lbl),w3))*o2*(1-o2)),w2))*o1*(1-o1),np.transpose(f))\n",
    "\n",
    "        b1 = b1 - db1\n",
    "        w1 = w1 - dw1\n",
    "        b2 = b2 - db2\n",
    "        w2 = w2 - dw2\n",
    "        b3 = b3 - db3\n",
    "        w3 = w3 - dw3\n",
    "\n",
    "        lbl[:] = 0\n",
    "    \n",
    "    #Check performance on test set\n",
    "    for k in range(len(labels_test)):\n",
    "        cls = labels_test.iloc[k]\n",
    "        lbl[ord(cls[0]) - 65] = 1\n",
    "        f = np.reshape(np.array(features_test.iloc[k]),(16,1))\n",
    "\n",
    "        l1 = np.matmul(w1,f) + b1\n",
    "        o1 = 1/(1 + np.exp(-l1)) #Sigmoid\n",
    "        l2 = np.matmul(w2,o1) + b2\n",
    "        o2 = 1/(1 + np.exp(-l2))\n",
    "        tot = np.matmul(w3,o2) + b3\n",
    "        o = softmax(tot)\n",
    "\n",
    "        maxIdx = np.argmax(o)\n",
    "        pred[k] = chr(ord('A') + maxIdx)\n",
    "\n",
    "        if pred[k] == cls[0]:\n",
    "            acc[i] = acc[i] + 1\n",
    "\n",
    "        entropy = -lbl*np.log(o)\n",
    "        entropy = np.nan_to_num(entropy)\n",
    "        err[i] = err[i] + np.sum(entropy)\n",
    "        lbl[:] = 0\n",
    "\n",
    "    #pdb.set_trace()\n",
    "    #print('Epoch:', i, 'Accuracy:', acc[i]/len(labels_test)*100, 'Cross Entropy Error:', err[i]/len(labels_test))\n",
    "    #Early Stopping condition\n",
    "    if (err[i] < min_err):\n",
    "        min_err = err[i]\n",
    "        bpred = pred\n",
    "\n",
    "    #Set gradient and labels back to zero\n",
    "    lbl[:] = 0\n",
    "    db1[:] = 0\n",
    "    dw1[:] = 0\n",
    "    db2[:] = 0\n",
    "    dw2[:] = 0\n"
   ]
  },
  {
   "cell_type": "code",
   "execution_count": 30,
   "metadata": {},
   "outputs": [
    {
     "name": "stdout",
     "output_type": "stream",
     "text": [
      "Best Accuracy achieved: 95.323\n"
     ]
    }
   ],
   "source": [
    "print('Best Accuracy achieved:',np.around(np.max(acc)/len(labels_test)*100,decimals=3)) "
   ]
  },
  {
   "cell_type": "code",
   "execution_count": 31,
   "metadata": {},
   "outputs": [
    {
     "data": {
      "text/plain": [
       "array([[138,   0,   0,   0,   0,   0,   0,   1,   0,   0,   0,   0,   0,\n",
       "          0,   0,   0,   0,   0,   0,   0,   0,   0,   0,   0,   0,   0],\n",
       "       [  0, 106,   0,   0,   0,   0,   1,   0,   0,   0,   0,   0,   0,\n",
       "          0,   0,   0,   0,   7,   2,   0,   0,   0,   0,   0,   0,   0],\n",
       "       [  0,   0,  86,   0,   0,   0,   0,   0,   0,   0,   0,   0,   0,\n",
       "          0,   0,   0,   0,   0,   0,   0,   0,   0,   0,   0,   0,   0],\n",
       "       [  0,   1,   0, 146,   0,   0,   0,   1,   0,   0,   0,   0,   0,\n",
       "          4,   3,   0,   0,   0,   0,   0,   0,   0,   0,   0,   0,   0],\n",
       "       [  0,   2,   1,   0, 106,   3,   3,   0,   0,   0,   0,   0,   0,\n",
       "          0,   0,   0,   0,   0,   2,   0,   0,   0,   0,   0,   0,   1],\n",
       "       [  0,   1,   0,   0,   0, 122,   1,   1,   0,   0,   0,   0,   0,\n",
       "          0,   0,   0,   0,   0,   0,   0,   0,   0,   0,   0,   0,   0],\n",
       "       [  0,   2,   3,   0,   1,   2, 109,   2,   0,   0,   2,   0,   0,\n",
       "          0,   0,   0,   1,   1,   0,   0,   0,   0,   0,   0,   0,   0],\n",
       "       [  0,   0,   1,   1,   0,   0,   0,  78,   0,   0,   0,   0,   0,\n",
       "          0,   0,   0,   0,   4,   0,   0,   0,   0,   0,   0,   0,   0],\n",
       "       [  0,   0,   0,   1,   0,   0,   0,   0,  99,   5,   0,   0,   0,\n",
       "          0,   0,   0,   0,   0,   0,   0,   0,   0,   0,   0,   0,   0],\n",
       "       [  0,   0,   0,   0,   0,   1,   0,   1,   3,  92,   0,   0,   0,\n",
       "          0,   0,   0,   0,   0,   0,   0,   0,   0,   0,   0,   0,   0],\n",
       "       [  0,   1,   0,   0,   0,   0,   0,   3,   0,   0,  78,   0,   0,\n",
       "          0,   0,   0,   0,   3,   0,   0,   2,   0,   1,   1,   0,   0],\n",
       "       [  0,   0,   0,   0,   0,   0,   0,   0,   0,   0,   0, 110,   0,\n",
       "          0,   0,   0,   0,   0,   1,   0,   0,   0,   0,   0,   0,   0],\n",
       "       [  0,   0,   0,   0,   0,   0,   0,   0,   0,   0,   0,   0, 138,\n",
       "          2,   0,   0,   0,   0,   0,   0,   0,   0,   2,   0,   0,   0],\n",
       "       [  0,   0,   0,   1,   0,   0,   0,   1,   0,   0,   0,   0,   0,\n",
       "        130,   1,   0,   0,   0,   0,   0,   0,   0,   0,   0,   0,   0],\n",
       "       [  0,   0,   0,   0,   0,   0,   0,   0,   0,   0,   0,   0,   0,\n",
       "          0, 102,   0,   1,   0,   0,   0,   0,   0,   0,   0,   0,   0],\n",
       "       [  1,   1,   0,   0,   0,   7,   0,   1,   1,   0,   0,   0,   0,\n",
       "          0,   1, 140,   1,   0,   0,   0,   0,   0,   0,   0,   0,   0],\n",
       "       [  0,   0,   0,   0,   0,   0,   0,   1,   0,   0,   0,   1,   0,\n",
       "          0,   2,   0, 126,   2,   0,   0,   0,   0,   0,   1,   0,   0],\n",
       "       [  0,   2,   0,   0,   0,   0,   0,   1,   0,   1,   0,   1,   0,\n",
       "          0,   0,   0,   0, 103,   0,   0,   0,   0,   0,   0,   0,   0],\n",
       "       [  0,   1,   0,   0,   0,   0,   0,   0,   0,   0,   0,   2,   0,\n",
       "          0,   0,   0,   0,   0,  94,   0,   1,   0,   0,   0,   0,   0],\n",
       "       [  0,   1,   0,   0,   0,   2,   0,   0,   0,   0,   0,   0,   0,\n",
       "          0,   0,   0,   0,   0,   1, 138,   0,   1,   0,   0,   3,   0],\n",
       "       [  0,   0,   0,   0,   0,   0,   0,   0,   0,   0,   0,   0,   0,\n",
       "          0,   2,   0,   0,   0,   0,   0, 160,   0,   0,   0,   1,   0],\n",
       "       [  0,   2,   0,   0,   0,   2,   2,   0,   0,   0,   0,   0,   1,\n",
       "          1,   0,   0,   0,   1,   0,   0,   0, 105,   0,   0,   0,   0],\n",
       "       [  0,   0,   0,   0,   0,   0,   0,   0,   0,   0,   0,   0,   1,\n",
       "          0,   0,   0,   0,   0,   0,   0,   1,   0, 100,   0,   0,   0],\n",
       "       [  0,   0,   1,   1,   0,   0,   0,   0,   0,   1,   3,   0,   0,\n",
       "          0,   0,   0,   0,   0,   2,   0,   0,   0,   0, 129,   0,   0],\n",
       "       [  0,   0,   0,   0,   0,   1,   1,   1,   0,   1,   0,   0,   0,\n",
       "          0,   0,   0,   0,   0,   0,   2,   0,   1,   0,   0, 129,   0],\n",
       "       [  0,   0,   0,   0,   0,   0,   0,   0,   0,   1,   0,   0,   0,\n",
       "          0,   0,   0,   0,   0,   0,   0,   0,   0,   0,   0,   0,  83]],\n",
       "      dtype=int64)"
      ]
     },
     "execution_count": 31,
     "metadata": {},
     "output_type": "execute_result"
    }
   ],
   "source": [
    "cnf = confusion_matrix(labels_test, bpred);cnf"
   ]
  },
  {
   "cell_type": "code",
   "execution_count": 32,
   "metadata": {},
   "outputs": [
    {
     "name": "stdout",
     "output_type": "stream",
     "text": [
      "             precision    recall  f1-score   support\n",
      "\n",
      "          T       0.99      0.99      0.99       139\n",
      "          I       0.88      0.91      0.90       116\n",
      "          D       0.93      1.00      0.97        86\n",
      "          N       0.97      0.94      0.96       155\n",
      "          G       0.99      0.90      0.94       118\n",
      "          S       0.87      0.98      0.92       125\n",
      "          B       0.93      0.89      0.91       123\n",
      "          A       0.85      0.93      0.89        84\n",
      "          J       0.96      0.94      0.95       105\n",
      "          S       0.91      0.95      0.93        97\n",
      "          M       0.94      0.88      0.91        89\n",
      "          X       0.96      0.99      0.98       111\n",
      "          O       0.99      0.97      0.98       142\n",
      "          G       0.95      0.98      0.96       133\n",
      "          M       0.92      0.99      0.95       103\n",
      "          R       1.00      0.92      0.96       153\n",
      "          F       0.98      0.95      0.96       133\n",
      "          O       0.85      0.95      0.90       108\n",
      "          C       0.92      0.96      0.94        98\n",
      "          T       0.99      0.95      0.97       146\n",
      "          J       0.98      0.98      0.98       163\n",
      "          J       0.98      0.92      0.95       114\n",
      "          H       0.97      0.98      0.98       102\n",
      "          S       0.98      0.94      0.96       137\n",
      "          O       0.97      0.95      0.96       136\n",
      "          J       0.99      0.99      0.99        84\n",
      "\n",
      "avg / total       0.95      0.95      0.95      3100\n",
      "\n"
     ]
    },
    {
     "name": "stderr",
     "output_type": "stream",
     "text": [
      "C:\\Users\\Salman\\Anaconda3\\lib\\site-packages\\sklearn\\metrics\\classification.py:1428: UserWarning: labels size, 26, does not match size of target_names, 20000\n",
      "  .format(len(labels), len(target_names))\n"
     ]
    }
   ],
   "source": [
    "print(classification_report(labels_test, bpred, target_names=data.lettr))"
   ]
  },
  {
   "cell_type": "code",
   "execution_count": 33,
   "metadata": {},
   "outputs": [
    {
     "data": {
      "text/plain": [
       "Text(0,0.5,'Cross Entropy Error')"
      ]
     },
     "execution_count": 33,
     "metadata": {},
     "output_type": "execute_result"
    },
    {
     "data": {
      "image/png": "[encoded data removed]",
      "text/plain": [
       "<Figure size 720x576 with 2 Axes>"
      ]
     },
     "metadata": {
      "needs_background": "light"
     },
     "output_type": "display_data"
    }
   ],
   "source": [
    "plt.figure(figsize=(10,8))\n",
    "plt.subplot(121)\n",
    "plt.plot(np.arange(100),acc/len(labels_test)*100)\n",
    "plt.title('Model Performance')\n",
    "plt.xlabel('Epoch')\n",
    "plt.ylabel('Accuracy')\n",
    "plt.subplot(122)\n",
    "plt.plot(np.arange(100),err/len(labels_test))\n",
    "plt.title('Model Performance')\n",
    "plt.xlabel('Epoch')\n",
    "plt.ylabel('Cross Entropy Error')"
   ]
  },
  {
   "cell_type": "markdown",
   "metadata": {},
   "source": [
    "The best machine learning models for tabular data like the one shown above are decision trees and random forests. Our neural network with 2 hidden layers does relatively very well on the dataset achieving 95-96% accuracy. Lets see how good this performance is compared to decision trees and random forests."
   ]
  },
  {
   "cell_type": "code",
   "execution_count": 35,
   "metadata": {},
   "outputs": [],
   "source": [
    "from sklearn.ensemble import RandomForestClassifier\n",
    "from sklearn.tree import DecisionTreeClassifier"
   ]
  },
  {
   "cell_type": "code",
   "execution_count": 55,
   "metadata": {},
   "outputs": [
    {
     "name": "stdout",
     "output_type": "stream",
     "text": [
      "The accuracy acheived using Random Forests:  87.355\n"
     ]
    }
   ],
   "source": [
    "clf = DecisionTreeClassifier()\n",
    "clf.fit(features_train,labels_train)\n",
    "ypred = clf.predict(features_test)\n",
    "acc = np.sum(np.array(ypred) == np.reshape(np.array(labels_test),(-1)))/len(labels_test)\n",
    "print('The accuracy acheived using Random Forests: ', np.around(acc*100,3))"
   ]
  },
  {
   "cell_type": "code",
   "execution_count": 56,
   "metadata": {},
   "outputs": [
    {
     "data": {
      "text/plain": [
       "array([[121,   0,   2,   0,   0,   0,   2,   1,   0,   2,   0,   2,   1,\n",
       "          1,   0,   1,   0,   1,   0,   0,   2,   0,   0,   2,   0,   1],\n",
       "       [  0, 100,   0,   1,   0,   1,   3,   2,   1,   1,   1,   0,   0,\n",
       "          0,   2,   0,   2,   0,   2,   0,   0,   0,   0,   0,   0,   0],\n",
       "       [  0,   0,  78,   0,   2,   0,   2,   0,   0,   1,   0,   0,   0,\n",
       "          0,   2,   0,   0,   0,   0,   0,   1,   0,   0,   0,   0,   0],\n",
       "       [  0,   2,   0, 123,   1,   0,   0,   7,   1,   1,   1,   0,   1,\n",
       "          4,   3,   1,   1,   0,   4,   1,   1,   0,   0,   2,   0,   1],\n",
       "       [  0,   1,   2,   0, 103,   1,   2,   0,   0,   0,   0,   0,   1,\n",
       "          0,   0,   0,   1,   0,   3,   0,   0,   0,   0,   1,   0,   3],\n",
       "       [  0,   2,   0,   0,   0, 106,   3,   2,   1,   3,   0,   0,   0,\n",
       "          0,   0,   1,   0,   0,   2,   0,   0,   1,   1,   1,   2,   0],\n",
       "       [  0,   1,   0,   3,   4,   0, 101,   1,   1,   0,   1,   2,   1,\n",
       "          0,   1,   1,   0,   0,   1,   1,   0,   0,   1,   2,   0,   1],\n",
       "       [  0,   0,   0,   3,   0,   2,   2,  65,   0,   0,   2,   0,   0,\n",
       "          0,   1,   1,   1,   5,   0,   0,   0,   0,   0,   2,   0,   0],\n",
       "       [  0,   1,   0,   0,   0,   1,   0,   0,  98,   3,   0,   0,   0,\n",
       "          0,   1,   0,   0,   0,   0,   1,   0,   0,   0,   0,   0,   0],\n",
       "       [  0,   0,   0,   0,   0,   0,   0,   1,   2,  90,   0,   0,   0,\n",
       "          1,   0,   0,   0,   0,   0,   0,   0,   0,   0,   2,   0,   1],\n",
       "       [  0,   0,   0,   0,   1,   0,   0,   3,   0,   0,  73,   0,   0,\n",
       "          1,   0,   0,   0,   5,   1,   1,   0,   1,   0,   3,   0,   0],\n",
       "       [  1,   0,   0,   0,   0,   0,   0,   0,   0,   0,   0, 106,   0,\n",
       "          0,   0,   1,   0,   0,   2,   1,   0,   0,   0,   0,   0,   0],\n",
       "       [  2,   1,   1,   2,   0,   0,   0,   1,   0,   0,   0,   0, 123,\n",
       "          3,   0,   4,   0,   2,   1,   0,   1,   0,   1,   0,   0,   0],\n",
       "       [  0,   1,   0,   1,   0,   0,   0,   0,   0,   1,   1,   0,   1,\n",
       "        119,   1,   0,   0,   2,   1,   1,   3,   0,   1,   0,   0,   0],\n",
       "       [  0,   1,   0,   2,   0,   0,   1,   0,   0,   2,   0,   0,   0,\n",
       "          1,  93,   0,   3,   0,   0,   0,   0,   0,   0,   0,   0,   0],\n",
       "       [  0,   3,   0,   0,   0,   7,   0,   0,   0,   0,   0,   1,   1,\n",
       "          0,   0, 135,   1,   0,   0,   0,   0,   1,   0,   0,   4,   0],\n",
       "       [  0,   1,   0,   0,   2,   1,   2,   3,   0,   0,   1,   0,   0,\n",
       "          0,   5,   0, 111,   1,   0,   1,   0,   1,   0,   0,   1,   3],\n",
       "       [  0,   1,   0,   0,   1,   0,   0,   1,   0,   0,   5,   0,   1,\n",
       "          1,   1,   0,   2,  94,   1,   0,   0,   0,   0,   0,   0,   0],\n",
       "       [  1,   3,   1,   1,   2,   3,   0,   0,   1,   0,   0,   1,   0,\n",
       "          0,   0,   0,   1,   0,  81,   1,   0,   0,   0,   1,   0,   1],\n",
       "       [  0,   0,   0,   1,   2,   4,   1,   1,   0,   0,   0,   0,   0,\n",
       "          0,   0,   1,   0,   0,   0, 130,   0,   1,   0,   2,   3,   0],\n",
       "       [  1,   0,   0,   1,   0,   0,   0,   2,   0,   0,   0,   0,   4,\n",
       "          3,   1,   0,   0,   0,   0,   1, 149,   0,   0,   0,   1,   0],\n",
       "       [  1,   1,   0,   0,   0,   2,   0,   1,   0,   0,   2,   0,   1,\n",
       "          2,   0,   0,   0,   1,   0,   0,   0,  99,   2,   0,   2,   0],\n",
       "       [  0,   1,   0,   0,   0,   2,   0,   1,   0,   0,   0,   0,   0,\n",
       "          0,   2,   1,   0,   0,   0,   0,   0,   2,  93,   0,   0,   0],\n",
       "       [  0,   1,   1,   1,   2,   0,   0,   3,   1,   1,   6,   2,   1,\n",
       "          0,   0,   0,   0,   0,   0,   1,   0,   0,   0, 117,   0,   0],\n",
       "       [  0,   2,   0,   1,   0,   0,   0,   1,   0,   0,   0,   0,   0,\n",
       "          0,   0,   3,   1,   0,   0,   2,   0,   1,   0,   0, 125,   0],\n",
       "       [  0,   0,   0,   0,   0,   0,   1,   0,   0,   1,   0,   0,   0,\n",
       "          0,   0,   0,   1,   0,   5,   0,   0,   0,   0,   1,   0,  75]],\n",
       "      dtype=int64)"
      ]
     },
     "execution_count": 56,
     "metadata": {},
     "output_type": "execute_result"
    }
   ],
   "source": [
    "cnf = confusion_matrix(labels_test, ypred);cnf"
   ]
  },
  {
   "cell_type": "code",
   "execution_count": 57,
   "metadata": {},
   "outputs": [
    {
     "name": "stdout",
     "output_type": "stream",
     "text": [
      "             precision    recall  f1-score   support\n",
      "\n",
      "          T       0.95      0.87      0.91       139\n",
      "          I       0.81      0.86      0.84       116\n",
      "          D       0.92      0.91      0.91        86\n",
      "          N       0.88      0.79      0.83       155\n",
      "          G       0.86      0.87      0.87       118\n",
      "          S       0.82      0.85      0.83       125\n",
      "          B       0.84      0.82      0.83       123\n",
      "          A       0.68      0.77      0.72        84\n",
      "          J       0.92      0.93      0.93       105\n",
      "          S       0.85      0.93      0.89        97\n",
      "          M       0.78      0.82      0.80        89\n",
      "          X       0.93      0.95      0.94       111\n",
      "          O       0.90      0.87      0.88       142\n",
      "          G       0.88      0.89      0.88       133\n",
      "          M       0.82      0.90      0.86       103\n",
      "          R       0.90      0.88      0.89       153\n",
      "          F       0.89      0.83      0.86       133\n",
      "          O       0.85      0.87      0.86       108\n",
      "          C       0.78      0.83      0.80        98\n",
      "          T       0.92      0.89      0.90       146\n",
      "          J       0.95      0.91      0.93       163\n",
      "          J       0.93      0.87      0.90       114\n",
      "          H       0.94      0.91      0.93       102\n",
      "          S       0.86      0.85      0.86       137\n",
      "          O       0.91      0.92      0.91       136\n",
      "          J       0.87      0.89      0.88        84\n",
      "\n",
      "avg / total       0.88      0.87      0.87      3100\n",
      "\n"
     ]
    },
    {
     "name": "stderr",
     "output_type": "stream",
     "text": [
      "C:\\Users\\Salman\\Anaconda3\\lib\\site-packages\\sklearn\\metrics\\classification.py:1428: UserWarning: labels size, 26, does not match size of target_names, 20000\n",
      "  .format(len(labels), len(target_names))\n"
     ]
    }
   ],
   "source": [
    "print(classification_report(labels_test, ypred, target_names=data.lettr))"
   ]
  },
  {
   "cell_type": "code",
   "execution_count": 63,
   "metadata": {},
   "outputs": [
    {
     "name": "stderr",
     "output_type": "stream",
     "text": [
      "C:\\Users\\Salman\\Anaconda3\\lib\\site-packages\\ipykernel_launcher.py:2: DataConversionWarning: A column-vector y was passed when a 1d array was expected. Please change the shape of y to (n_samples,), for example using ravel().\n",
      "  \n"
     ]
    },
    {
     "name": "stdout",
     "output_type": "stream",
     "text": [
      "The accuracy acheived using Random Forests:  96.613\n"
     ]
    }
   ],
   "source": [
    "clf = RandomForestClassifier(n_estimators=50,bootstrap = True);\n",
    "clf.fit(features_train, labels_train);\n",
    "ypred = clf.predict(features_test);\n",
    "acc = np.sum(np.array(ypred) == np.reshape(np.array(labels_test),(-1)))/len(labels_test)\n",
    "print('The accuracy acheived using Random Forests: ', np.around(acc*100,3))"
   ]
  },
  {
   "cell_type": "code",
   "execution_count": 64,
   "metadata": {},
   "outputs": [
    {
     "data": {
      "text/plain": [
       "array([[139,   0,   0,   0,   0,   0,   0,   0,   0,   0,   0,   0,   0,\n",
       "          0,   0,   0,   0,   0,   0,   0,   0,   0,   0,   0,   0,   0],\n",
       "       [  0, 114,   0,   0,   0,   0,   0,   1,   0,   0,   0,   0,   0,\n",
       "          0,   0,   0,   0,   0,   1,   0,   0,   0,   0,   0,   0,   0],\n",
       "       [  0,   0,  84,   0,   1,   0,   0,   1,   0,   0,   0,   0,   0,\n",
       "          0,   0,   0,   0,   0,   0,   0,   0,   0,   0,   0,   0,   0],\n",
       "       [  0,   0,   0, 153,   0,   0,   0,   0,   0,   0,   0,   0,   0,\n",
       "          2,   0,   0,   0,   0,   0,   0,   0,   0,   0,   0,   0,   0],\n",
       "       [  0,   0,   0,   0, 112,   0,   2,   0,   0,   0,   1,   0,   1,\n",
       "          0,   0,   0,   1,   0,   0,   0,   0,   0,   0,   1,   0,   0],\n",
       "       [  0,   1,   0,   1,   0, 118,   0,   0,   0,   0,   0,   0,   0,\n",
       "          0,   0,   3,   1,   0,   1,   0,   0,   0,   0,   0,   0,   0],\n",
       "       [  0,   0,   0,   2,   0,   1, 117,   1,   0,   0,   0,   0,   0,\n",
       "          0,   1,   0,   0,   0,   0,   0,   0,   0,   0,   1,   0,   0],\n",
       "       [  0,   1,   0,   4,   0,   0,   0,  76,   0,   0,   2,   0,   0,\n",
       "          0,   0,   0,   0,   1,   0,   0,   0,   0,   0,   0,   0,   0],\n",
       "       [  0,   0,   0,   0,   0,   0,   0,   0, 102,   1,   0,   0,   0,\n",
       "          0,   0,   0,   0,   0,   0,   1,   0,   0,   0,   0,   1,   0],\n",
       "       [  0,   0,   0,   0,   0,   0,   0,   1,   5,  91,   0,   0,   0,\n",
       "          0,   0,   0,   0,   0,   0,   0,   0,   0,   0,   0,   0,   0],\n",
       "       [  0,   0,   0,   1,   0,   0,   0,   1,   0,   0,  84,   0,   0,\n",
       "          0,   0,   0,   0,   3,   0,   0,   0,   0,   0,   0,   0,   0],\n",
       "       [  0,   0,   0,   0,   0,   0,   0,   0,   0,   0,   0, 109,   0,\n",
       "          0,   0,   1,   0,   0,   0,   0,   0,   0,   0,   1,   0,   0],\n",
       "       [  0,   0,   0,   0,   0,   0,   0,   0,   0,   0,   1,   0, 139,\n",
       "          0,   0,   0,   0,   0,   0,   0,   0,   0,   2,   0,   0,   0],\n",
       "       [  0,   0,   0,   2,   0,   0,   0,   0,   0,   0,   0,   0,   0,\n",
       "        130,   1,   0,   0,   0,   0,   0,   0,   0,   0,   0,   0,   0],\n",
       "       [  0,   1,   0,   2,   0,   0,   0,   0,   0,   0,   0,   0,   1,\n",
       "          0,  97,   1,   1,   0,   0,   0,   0,   0,   0,   0,   0,   0],\n",
       "       [  0,   1,   0,   0,   0,   6,   0,   0,   0,   0,   0,   0,   0,\n",
       "          0,   1, 145,   0,   0,   0,   0,   0,   0,   0,   0,   0,   0],\n",
       "       [  1,   0,   0,   1,   0,   0,   0,   0,   0,   0,   0,   0,   0,\n",
       "          0,   0,   0, 130,   1,   0,   0,   0,   0,   0,   0,   0,   0],\n",
       "       [  0,   2,   0,   0,   0,   0,   0,   0,   0,   1,   1,   0,   0,\n",
       "          0,   0,   0,   0, 104,   0,   0,   0,   0,   0,   0,   0,   0],\n",
       "       [  0,   1,   0,   1,   1,   1,   0,   1,   0,   0,   0,   0,   0,\n",
       "          0,   0,   0,   0,   0,  93,   0,   0,   0,   0,   0,   0,   0],\n",
       "       [  0,   1,   0,   0,   0,   0,   0,   0,   0,   0,   0,   0,   0,\n",
       "          0,   0,   0,   0,   0,   0, 144,   0,   0,   0,   0,   1,   0],\n",
       "       [  1,   1,   0,   0,   0,   0,   0,   1,   0,   0,   0,   0,   2,\n",
       "          0,   0,   0,   0,   0,   0,   0, 158,   0,   0,   0,   0,   0],\n",
       "       [  0,   1,   0,   0,   0,   1,   0,   0,   0,   0,   0,   0,   1,\n",
       "          0,   0,   1,   0,   0,   0,   0,   0, 109,   0,   0,   1,   0],\n",
       "       [  0,   0,   0,   0,   0,   0,   0,   0,   0,   0,   0,   0,   1,\n",
       "          0,   0,   0,   0,   0,   0,   0,   1,   0, 100,   0,   0,   0],\n",
       "       [  0,   0,   0,   1,   1,   0,   0,   1,   0,   0,   1,   0,   0,\n",
       "          0,   0,   0,   0,   0,   0,   0,   0,   0,   0, 133,   0,   0],\n",
       "       [  0,   1,   0,   0,   0,   0,   0,   0,   0,   0,   0,   0,   0,\n",
       "          0,   0,   0,   0,   0,   0,   2,   2,   0,   0,   0, 131,   0],\n",
       "       [  0,   0,   0,   1,   0,   0,   0,   0,   0,   0,   0,   0,   0,\n",
       "          0,   0,   0,   0,   0,   0,   0,   0,   0,   0,   0,   0,  83]],\n",
       "      dtype=int64)"
      ]
     },
     "execution_count": 64,
     "metadata": {},
     "output_type": "execute_result"
    }
   ],
   "source": [
    "cnf = confusion_matrix(labels_test, ypred);cnf"
   ]
  },
  {
   "cell_type": "code",
   "execution_count": 65,
   "metadata": {},
   "outputs": [
    {
     "name": "stdout",
     "output_type": "stream",
     "text": [
      "             precision    recall  f1-score   support\n",
      "\n",
      "          T       0.99      0.99      0.99       139\n",
      "          I       0.88      0.91      0.90       116\n",
      "          D       0.93      1.00      0.97        86\n",
      "          N       0.97      0.94      0.96       155\n",
      "          G       0.99      0.90      0.94       118\n",
      "          S       0.87      0.98      0.92       125\n",
      "          B       0.93      0.89      0.91       123\n",
      "          A       0.85      0.93      0.89        84\n",
      "          J       0.96      0.94      0.95       105\n",
      "          S       0.91      0.95      0.93        97\n",
      "          M       0.94      0.88      0.91        89\n",
      "          X       0.96      0.99      0.98       111\n",
      "          O       0.99      0.97      0.98       142\n",
      "          G       0.95      0.98      0.96       133\n",
      "          M       0.92      0.99      0.95       103\n",
      "          R       1.00      0.92      0.96       153\n",
      "          F       0.98      0.95      0.96       133\n",
      "          O       0.85      0.95      0.90       108\n",
      "          C       0.92      0.96      0.94        98\n",
      "          T       0.99      0.95      0.97       146\n",
      "          J       0.98      0.98      0.98       163\n",
      "          J       0.98      0.92      0.95       114\n",
      "          H       0.97      0.98      0.98       102\n",
      "          S       0.98      0.94      0.96       137\n",
      "          O       0.97      0.95      0.96       136\n",
      "          J       0.99      0.99      0.99        84\n",
      "\n",
      "avg / total       0.95      0.95      0.95      3100\n",
      "\n"
     ]
    },
    {
     "name": "stderr",
     "output_type": "stream",
     "text": [
      "C:\\Users\\Salman\\Anaconda3\\lib\\site-packages\\sklearn\\metrics\\classification.py:1428: UserWarning: labels size, 26, does not match size of target_names, 20000\n",
      "  .format(len(labels), len(target_names))\n"
     ]
    }
   ],
   "source": [
    "print(classification_report(labels_test, bpred, target_names=data.lettr))"
   ]
  },
  {
   "cell_type": "markdown",
   "metadata": {},
   "source": [
    "Using just decision trees results in an accuracy of 87% which is poorer than our Nerual Net. However, Random Forests (no of trees - 50) out-perform the neural networks, although by just a small margin. This shows that our networks performance is good enough!  "
   ]
  }
 ],
 "metadata": {
  "kernelspec": {
   "display_name": "Python 3",
   "language": "python",
   "name": "python3"
  },
  "language_info": {
   "codemirror_mode": {
    "name": "ipython",
    "version": 3
   },
   "file_extension": ".py",
   "mimetype": "text/x-python",
   "name": "python",
   "nbconvert_exporter": "python",
   "pygments_lexer": "ipython3",
   "version": "3.6.6"
  }
 },
 "nbformat": 4,
 "nbformat_minor": 2
}
